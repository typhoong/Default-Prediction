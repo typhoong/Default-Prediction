{
 "cells": [
  {
   "attachments": {},
   "cell_type": "markdown",
   "metadata": {
    "id": "s2e-v3LmalLg"
   },
   "source": [
    "# Lendingclub 데이터로 부도 예측하기(LPM/Logistic, 결정트리, 랜덤포레스트)"
   ]
  },
  {
   "cell_type": "code",
   "execution_count": null,
   "metadata": {
    "colab": {
     "base_uri": "https://localhost:8080/"
    },
    "id": "ZK2-iw8B7BSk",
    "outputId": "5abf1759-3b77-4a0f-ee07-6c95972bf4f1"
   },
   "outputs": [
    {
     "name": "stdout",
     "output_type": "stream",
     "text": [
      "Mounted at /content/drive\n"
     ]
    }
   ],
   "source": [
    "from google.colab import drive\n",
    "drive.mount('/content/drive')"
   ]
  },
  {
   "cell_type": "markdown",
   "metadata": {
    "id": "amq--dzValLm"
   },
   "source": [
    "## 1. Data load"
   ]
  },
  {
   "cell_type": "code",
   "execution_count": null,
   "metadata": {
    "id": "PwJMxcJ1alLm"
   },
   "outputs": [],
   "source": [
    "#필요한 모듈 불러오기\n",
    "from pandas import DataFrame, Series\n",
    "import numpy as np\n",
    "import pandas as pd\n",
    "import os\n",
    "import matplotlib \n",
    "import matplotlib.pyplot as plt\n",
    "import matplotlib as mpl\n",
    "%matplotlib inline\n",
    "import seaborn as sb\n",
    "from sklearn.metrics import confusion_matrix\n",
    "import warnings\n",
    "warnings.filterwarnings(\"ignore\")"
   ]
  },
  {
   "cell_type": "code",
   "execution_count": null,
   "metadata": {
    "id": "Ii0-8VR6XNgf"
   },
   "outputs": [],
   "source": [
    "# 한글 출력 시 (Colab 용)\n",
    "#!sudo apt-get install -y fonts-nanum\n",
    "#!sudo fc-cache -fv\n",
    "#!rm ~/.cache/matplotlib -rf\n",
    "plt.rc('font', family='NanumBarunGothic')\n",
    "\n",
    "# 마이너스 기호 깨짐 현상 해결\n",
    "#mpl.rcParams['axes.unicode_minus'] = False "
   ]
  },
  {
   "cell_type": "code",
   "execution_count": null,
   "metadata": {
    "id": "c4Wm8PzbalLn"
   },
   "outputs": [],
   "source": [
    "#파일 불러오기/content/lendingclub.dta\n",
    "#df = pd.io.stata.read_stata('/content/drive/MyDrive/lendingclub.dta')\n",
    "df = pd.io.stata.read_stata('/content/drive/MyDrive/빅데이터와 핀테크/FinTech 4기/조별 성취도 평가 안내/lendingclub.dta')\n",
    "#data.to_csv('lendingclub.csv')"
   ]
  },
  {
   "cell_type": "code",
   "execution_count": null,
   "metadata": {
    "id": "_BPihuacynYZ"
   },
   "outputs": [],
   "source": [
    "#df = pd.read_stata('./lendingclub.dta')"
   ]
  },
  {
   "cell_type": "code",
   "execution_count": null,
   "metadata": {
    "colab": {
     "base_uri": "https://localhost:8080/"
    },
    "id": "np0-hzx8alLo",
    "outputId": "03f048b1-b0ef-4c79-d62e-da1f25c2e3ec"
   },
   "outputs": [
    {
     "data": {
      "text/plain": [
       "(1092919, 333)"
      ]
     },
     "execution_count": 9,
     "metadata": {
      "tags": []
     },
     "output_type": "execute_result"
    }
   ],
   "source": [
    "df.shape"
   ]
  },
  {
   "cell_type": "code",
   "execution_count": null,
   "metadata": {
    "colab": {
     "base_uri": "https://localhost:8080/"
    },
    "id": "clwvrIV4alLp",
    "outputId": "59b7967e-c8b6-4147-8efb-bd6e09416bd1"
   },
   "outputs": [
    {
     "name": "stdout",
     "output_type": "stream",
     "text": [
      "<class 'pandas.core.frame.DataFrame'>\n",
      "Int64Index: 1092919 entries, 0 to 1092918\n",
      "Columns: 333 entries, loan_amnt to mths_since_recent_revol_delinq11\n",
      "dtypes: float32(2), float64(16), int16(6), int32(6), int8(303)\n",
      "memory usage: 503.4 MB\n"
     ]
    }
   ],
   "source": [
    "df.info()"
   ]
  },
  {
   "cell_type": "code",
   "execution_count": null,
   "metadata": {
    "colab": {
     "base_uri": "https://localhost:8080/",
     "height": 333
    },
    "id": "TLNeCiO4alLq",
    "outputId": "bb2df420-0c7d-42de-e4d2-539b1355822e"
   },
   "outputs": [
    {
     "data": {
      "text/html": [
       "<div>\n",
       "<style scoped>\n",
       "    .dataframe tbody tr th:only-of-type {\n",
       "        vertical-align: middle;\n",
       "    }\n",
       "\n",
       "    .dataframe tbody tr th {\n",
       "        vertical-align: top;\n",
       "    }\n",
       "\n",
       "    .dataframe thead th {\n",
       "        text-align: right;\n",
       "    }\n",
       "</style>\n",
       "<table border=\"1\" class=\"dataframe\">\n",
       "  <thead>\n",
       "    <tr style=\"text-align: right;\">\n",
       "      <th></th>\n",
       "      <th>loan_amnt</th>\n",
       "      <th>funded_amnt</th>\n",
       "      <th>funded_amnt_inv</th>\n",
       "      <th>int_rate</th>\n",
       "      <th>installment</th>\n",
       "      <th>annual_inc</th>\n",
       "      <th>dti</th>\n",
       "      <th>delinq_2yrs</th>\n",
       "      <th>fico_range_low</th>\n",
       "      <th>fico_range_high</th>\n",
       "      <th>inq_last_6mths</th>\n",
       "      <th>open_acc</th>\n",
       "      <th>pub_rec</th>\n",
       "      <th>revol_bal</th>\n",
       "      <th>revol_util</th>\n",
       "      <th>total_acc</th>\n",
       "      <th>out_prncp</th>\n",
       "      <th>out_prncp_inv</th>\n",
       "      <th>total_pymnt</th>\n",
       "      <th>total_pymnt_inv</th>\n",
       "      <th>total_rec_prncp</th>\n",
       "      <th>total_rec_int</th>\n",
       "      <th>total_rec_late_fee</th>\n",
       "      <th>recoveries</th>\n",
       "      <th>collection_recovery_fee</th>\n",
       "      <th>last_pymnt_amnt</th>\n",
       "      <th>last_fico_range_high</th>\n",
       "      <th>last_fico_range_low</th>\n",
       "      <th>collections_12_mths_ex_med</th>\n",
       "      <th>acc_now_delinq</th>\n",
       "      <th>tot_coll_amt</th>\n",
       "      <th>tot_cur_bal</th>\n",
       "      <th>chargeoff_within_12_mths</th>\n",
       "      <th>delinq_amnt</th>\n",
       "      <th>pub_rec_bankruptcies</th>\n",
       "      <th>tax_liens</th>\n",
       "      <th>emp_length1</th>\n",
       "      <th>emp_length2</th>\n",
       "      <th>emp_length3</th>\n",
       "      <th>emp_length4</th>\n",
       "      <th>...</th>\n",
       "      <th>mths_since_recent_bc4</th>\n",
       "      <th>mths_since_recent_bc5</th>\n",
       "      <th>mths_since_recent_bc6</th>\n",
       "      <th>mths_since_recent_bc7</th>\n",
       "      <th>mths_since_recent_bc8</th>\n",
       "      <th>mths_since_recent_bc9</th>\n",
       "      <th>mths_since_recent_bc10</th>\n",
       "      <th>mths_since_recent_bc11</th>\n",
       "      <th>mths_since_recent_bc_dlq1</th>\n",
       "      <th>mths_since_recent_bc_dlq2</th>\n",
       "      <th>mths_since_recent_bc_dlq3</th>\n",
       "      <th>mths_since_recent_bc_dlq4</th>\n",
       "      <th>mths_since_recent_bc_dlq5</th>\n",
       "      <th>mths_since_recent_bc_dlq6</th>\n",
       "      <th>mths_since_recent_bc_dlq7</th>\n",
       "      <th>mths_since_recent_bc_dlq8</th>\n",
       "      <th>mths_since_recent_bc_dlq9</th>\n",
       "      <th>mths_since_recent_bc_dlq10</th>\n",
       "      <th>mths_since_recent_bc_dlq11</th>\n",
       "      <th>mths_since_recent_inq1</th>\n",
       "      <th>mths_since_recent_inq2</th>\n",
       "      <th>mths_since_recent_inq3</th>\n",
       "      <th>mths_since_recent_inq4</th>\n",
       "      <th>mths_since_recent_inq5</th>\n",
       "      <th>mths_since_recent_inq6</th>\n",
       "      <th>mths_since_recent_inq7</th>\n",
       "      <th>mths_since_recent_inq8</th>\n",
       "      <th>mths_since_recent_inq9</th>\n",
       "      <th>mths_since_recent_inq10</th>\n",
       "      <th>mths_since_recent_revol_delinq1</th>\n",
       "      <th>mths_since_recent_revol_delinq2</th>\n",
       "      <th>mths_since_recent_revol_delinq3</th>\n",
       "      <th>mths_since_recent_revol_delinq4</th>\n",
       "      <th>mths_since_recent_revol_delinq5</th>\n",
       "      <th>mths_since_recent_revol_delinq6</th>\n",
       "      <th>mths_since_recent_revol_delinq7</th>\n",
       "      <th>mths_since_recent_revol_delinq8</th>\n",
       "      <th>mths_since_recent_revol_delinq9</th>\n",
       "      <th>mths_since_recent_revol_delinq10</th>\n",
       "      <th>mths_since_recent_revol_delinq11</th>\n",
       "    </tr>\n",
       "  </thead>\n",
       "  <tbody>\n",
       "    <tr>\n",
       "      <th>count</th>\n",
       "      <td>1.092919e+06</td>\n",
       "      <td>1.092919e+06</td>\n",
       "      <td>1.092919e+06</td>\n",
       "      <td>1.092919e+06</td>\n",
       "      <td>1.092919e+06</td>\n",
       "      <td>1.092919e+06</td>\n",
       "      <td>1.092919e+06</td>\n",
       "      <td>1.092919e+06</td>\n",
       "      <td>1.092919e+06</td>\n",
       "      <td>1.092919e+06</td>\n",
       "      <td>1.092919e+06</td>\n",
       "      <td>1.092919e+06</td>\n",
       "      <td>1.092919e+06</td>\n",
       "      <td>1.092919e+06</td>\n",
       "      <td>1.092919e+06</td>\n",
       "      <td>1.092919e+06</td>\n",
       "      <td>1.092919e+06</td>\n",
       "      <td>1.092919e+06</td>\n",
       "      <td>1.092919e+06</td>\n",
       "      <td>1.092919e+06</td>\n",
       "      <td>1.092919e+06</td>\n",
       "      <td>1.092919e+06</td>\n",
       "      <td>1.092919e+06</td>\n",
       "      <td>1.092919e+06</td>\n",
       "      <td>1.092919e+06</td>\n",
       "      <td>1.092919e+06</td>\n",
       "      <td>1.092919e+06</td>\n",
       "      <td>1.092919e+06</td>\n",
       "      <td>1.092919e+06</td>\n",
       "      <td>1.092919e+06</td>\n",
       "      <td>1.092919e+06</td>\n",
       "      <td>1.092919e+06</td>\n",
       "      <td>1.092919e+06</td>\n",
       "      <td>1.092919e+06</td>\n",
       "      <td>1.092919e+06</td>\n",
       "      <td>1.092919e+06</td>\n",
       "      <td>1.092919e+06</td>\n",
       "      <td>1.092919e+06</td>\n",
       "      <td>1.092919e+06</td>\n",
       "      <td>1.092919e+06</td>\n",
       "      <td>...</td>\n",
       "      <td>1.092919e+06</td>\n",
       "      <td>1.092919e+06</td>\n",
       "      <td>1.092919e+06</td>\n",
       "      <td>1.092919e+06</td>\n",
       "      <td>1.092919e+06</td>\n",
       "      <td>1.092919e+06</td>\n",
       "      <td>1.092919e+06</td>\n",
       "      <td>1.092919e+06</td>\n",
       "      <td>1.092919e+06</td>\n",
       "      <td>1.092919e+06</td>\n",
       "      <td>1.092919e+06</td>\n",
       "      <td>1.092919e+06</td>\n",
       "      <td>1.092919e+06</td>\n",
       "      <td>1.092919e+06</td>\n",
       "      <td>1.092919e+06</td>\n",
       "      <td>1.092919e+06</td>\n",
       "      <td>1.092919e+06</td>\n",
       "      <td>1.092919e+06</td>\n",
       "      <td>1.092919e+06</td>\n",
       "      <td>1.092919e+06</td>\n",
       "      <td>1.092919e+06</td>\n",
       "      <td>1.092919e+06</td>\n",
       "      <td>1.092919e+06</td>\n",
       "      <td>1.092919e+06</td>\n",
       "      <td>1.092919e+06</td>\n",
       "      <td>1.092919e+06</td>\n",
       "      <td>1.092919e+06</td>\n",
       "      <td>1.092919e+06</td>\n",
       "      <td>1.092919e+06</td>\n",
       "      <td>1.092919e+06</td>\n",
       "      <td>1.092919e+06</td>\n",
       "      <td>1.092919e+06</td>\n",
       "      <td>1.092919e+06</td>\n",
       "      <td>1.092919e+06</td>\n",
       "      <td>1.092919e+06</td>\n",
       "      <td>1.092919e+06</td>\n",
       "      <td>1.092919e+06</td>\n",
       "      <td>1.092919e+06</td>\n",
       "      <td>1.092919e+06</td>\n",
       "      <td>1.092919e+06</td>\n",
       "    </tr>\n",
       "    <tr>\n",
       "      <th>mean</th>\n",
       "      <td>1.364630e+04</td>\n",
       "      <td>1.364628e+04</td>\n",
       "      <td>1.364033e+04</td>\n",
       "      <td>1.263927e-01</td>\n",
       "      <td>4.312534e+02</td>\n",
       "      <td>7.562999e+04</td>\n",
       "      <td>1.818105e+01</td>\n",
       "      <td>3.394543e-01</td>\n",
       "      <td>6.942867e+02</td>\n",
       "      <td>6.982868e+02</td>\n",
       "      <td>6.401874e-01</td>\n",
       "      <td>1.157962e+01</td>\n",
       "      <td>2.278147e-01</td>\n",
       "      <td>1.633953e+04</td>\n",
       "      <td>5.311223e-01</td>\n",
       "      <td>2.472208e+01</td>\n",
       "      <td>1.688434e-01</td>\n",
       "      <td>1.688348e-01</td>\n",
       "      <td>1.488750e+04</td>\n",
       "      <td>1.488104e+04</td>\n",
       "      <td>1.221735e+04</td>\n",
       "      <td>2.466102e+03</td>\n",
       "      <td>1.806582e+00</td>\n",
       "      <td>2.022404e+02</td>\n",
       "      <td>3.361854e+01</td>\n",
       "      <td>3.916907e+03</td>\n",
       "      <td>6.790201e+02</td>\n",
       "      <td>6.632270e+02</td>\n",
       "      <td>1.791258e-02</td>\n",
       "      <td>5.880582e-03</td>\n",
       "      <td>2.452099e+02</td>\n",
       "      <td>1.349993e+05</td>\n",
       "      <td>9.476457e-03</td>\n",
       "      <td>1.640168e+01</td>\n",
       "      <td>1.329669e-01</td>\n",
       "      <td>6.108504e-02</td>\n",
       "      <td>6.535251e-02</td>\n",
       "      <td>3.302212e-01</td>\n",
       "      <td>9.019790e-02</td>\n",
       "      <td>7.987692e-02</td>\n",
       "      <td>...</td>\n",
       "      <td>7.996475e-02</td>\n",
       "      <td>1.008492e-01</td>\n",
       "      <td>1.119479e-01</td>\n",
       "      <td>8.370154e-02</td>\n",
       "      <td>1.024037e-01</td>\n",
       "      <td>9.419088e-02</td>\n",
       "      <td>9.277906e-02</td>\n",
       "      <td>9.844279e-02</td>\n",
       "      <td>7.448054e-01</td>\n",
       "      <td>2.708526e-02</td>\n",
       "      <td>2.611904e-02</td>\n",
       "      <td>2.605866e-02</td>\n",
       "      <td>2.619133e-02</td>\n",
       "      <td>2.569358e-02</td>\n",
       "      <td>2.544104e-02</td>\n",
       "      <td>2.352141e-02</td>\n",
       "      <td>2.559476e-02</td>\n",
       "      <td>2.482801e-02</td>\n",
       "      <td>2.466148e-02</td>\n",
       "      <td>1.063400e-01</td>\n",
       "      <td>1.790526e-01</td>\n",
       "      <td>1.525328e-01</td>\n",
       "      <td>6.588777e-02</td>\n",
       "      <td>5.867498e-02</td>\n",
       "      <td>1.023278e-01</td>\n",
       "      <td>8.212777e-02</td>\n",
       "      <td>9.045776e-02</td>\n",
       "      <td>8.048812e-02</td>\n",
       "      <td>8.211039e-02</td>\n",
       "      <td>6.449353e-01</td>\n",
       "      <td>3.838070e-02</td>\n",
       "      <td>3.805314e-02</td>\n",
       "      <td>3.610332e-02</td>\n",
       "      <td>3.453504e-02</td>\n",
       "      <td>3.227595e-02</td>\n",
       "      <td>3.575745e-02</td>\n",
       "      <td>3.779146e-02</td>\n",
       "      <td>3.360908e-02</td>\n",
       "      <td>3.576935e-02</td>\n",
       "      <td>3.278926e-02</td>\n",
       "    </tr>\n",
       "    <tr>\n",
       "      <th>std</th>\n",
       "      <td>8.441163e+03</td>\n",
       "      <td>8.441145e+03</td>\n",
       "      <td>8.438033e+03</td>\n",
       "      <td>4.361999e-02</td>\n",
       "      <td>2.652486e+02</td>\n",
       "      <td>8.994245e+04</td>\n",
       "      <td>8.321510e+00</td>\n",
       "      <td>9.065449e-01</td>\n",
       "      <td>3.061425e+01</td>\n",
       "      <td>3.061490e+01</td>\n",
       "      <td>9.343720e-01</td>\n",
       "      <td>5.429423e+00</td>\n",
       "      <td>6.400227e-01</td>\n",
       "      <td>2.264732e+04</td>\n",
       "      <td>2.389062e-01</td>\n",
       "      <td>1.186147e+01</td>\n",
       "      <td>1.768506e+01</td>\n",
       "      <td>1.768472e+01</td>\n",
       "      <td>1.028781e+04</td>\n",
       "      <td>1.028402e+04</td>\n",
       "      <td>8.515152e+03</td>\n",
       "      <td>2.673396e+03</td>\n",
       "      <td>1.328589e+01</td>\n",
       "      <td>8.840765e+02</td>\n",
       "      <td>1.544028e+02</td>\n",
       "      <td>5.700088e+03</td>\n",
       "      <td>8.126385e+01</td>\n",
       "      <td>1.286379e+02</td>\n",
       "      <td>1.514680e-01</td>\n",
       "      <td>8.361557e-02</td>\n",
       "      <td>9.010194e+03</td>\n",
       "      <td>1.552666e+05</td>\n",
       "      <td>1.112018e-01</td>\n",
       "      <td>8.274548e+02</td>\n",
       "      <td>3.811488e-01</td>\n",
       "      <td>4.397524e-01</td>\n",
       "      <td>2.471470e-01</td>\n",
       "      <td>4.702928e-01</td>\n",
       "      <td>2.864652e-01</td>\n",
       "      <td>2.711027e-01</td>\n",
       "      <td>...</td>\n",
       "      <td>2.712388e-01</td>\n",
       "      <td>3.011291e-01</td>\n",
       "      <td>3.153025e-01</td>\n",
       "      <td>2.769398e-01</td>\n",
       "      <td>3.031787e-01</td>\n",
       "      <td>2.920942e-01</td>\n",
       "      <td>2.901227e-01</td>\n",
       "      <td>2.979126e-01</td>\n",
       "      <td>4.359707e-01</td>\n",
       "      <td>1.623320e-01</td>\n",
       "      <td>1.594894e-01</td>\n",
       "      <td>1.593098e-01</td>\n",
       "      <td>1.597040e-01</td>\n",
       "      <td>1.582196e-01</td>\n",
       "      <td>1.574605e-01</td>\n",
       "      <td>1.515526e-01</td>\n",
       "      <td>1.579231e-01</td>\n",
       "      <td>1.556008e-01</td>\n",
       "      <td>1.550913e-01</td>\n",
       "      <td>3.082724e-01</td>\n",
       "      <td>3.833965e-01</td>\n",
       "      <td>3.595367e-01</td>\n",
       "      <td>2.480859e-01</td>\n",
       "      <td>2.350155e-01</td>\n",
       "      <td>3.030790e-01</td>\n",
       "      <td>2.745594e-01</td>\n",
       "      <td>2.868366e-01</td>\n",
       "      <td>2.720475e-01</td>\n",
       "      <td>2.745329e-01</td>\n",
       "      <td>4.785332e-01</td>\n",
       "      <td>1.921137e-01</td>\n",
       "      <td>1.913247e-01</td>\n",
       "      <td>1.865473e-01</td>\n",
       "      <td>1.825990e-01</td>\n",
       "      <td>1.767321e-01</td>\n",
       "      <td>1.856849e-01</td>\n",
       "      <td>1.906916e-01</td>\n",
       "      <td>1.802208e-01</td>\n",
       "      <td>1.857147e-01</td>\n",
       "      <td>1.780847e-01</td>\n",
       "    </tr>\n",
       "    <tr>\n",
       "      <th>min</th>\n",
       "      <td>1.000000e+03</td>\n",
       "      <td>1.000000e+03</td>\n",
       "      <td>7.750000e+02</td>\n",
       "      <td>5.320000e-02</td>\n",
       "      <td>4.930000e+00</td>\n",
       "      <td>3.000000e+03</td>\n",
       "      <td>-1.000000e+00</td>\n",
       "      <td>0.000000e+00</td>\n",
       "      <td>6.600000e+02</td>\n",
       "      <td>6.640000e+02</td>\n",
       "      <td>0.000000e+00</td>\n",
       "      <td>1.000000e+00</td>\n",
       "      <td>0.000000e+00</td>\n",
       "      <td>0.000000e+00</td>\n",
       "      <td>0.000000e+00</td>\n",
       "      <td>2.000000e+00</td>\n",
       "      <td>0.000000e+00</td>\n",
       "      <td>0.000000e+00</td>\n",
       "      <td>0.000000e+00</td>\n",
       "      <td>0.000000e+00</td>\n",
       "      <td>0.000000e+00</td>\n",
       "      <td>0.000000e+00</td>\n",
       "      <td>-5.100000e-09</td>\n",
       "      <td>0.000000e+00</td>\n",
       "      <td>0.000000e+00</td>\n",
       "      <td>0.000000e+00</td>\n",
       "      <td>0.000000e+00</td>\n",
       "      <td>0.000000e+00</td>\n",
       "      <td>0.000000e+00</td>\n",
       "      <td>0.000000e+00</td>\n",
       "      <td>0.000000e+00</td>\n",
       "      <td>0.000000e+00</td>\n",
       "      <td>0.000000e+00</td>\n",
       "      <td>0.000000e+00</td>\n",
       "      <td>0.000000e+00</td>\n",
       "      <td>0.000000e+00</td>\n",
       "      <td>0.000000e+00</td>\n",
       "      <td>0.000000e+00</td>\n",
       "      <td>0.000000e+00</td>\n",
       "      <td>0.000000e+00</td>\n",
       "      <td>...</td>\n",
       "      <td>0.000000e+00</td>\n",
       "      <td>0.000000e+00</td>\n",
       "      <td>0.000000e+00</td>\n",
       "      <td>0.000000e+00</td>\n",
       "      <td>0.000000e+00</td>\n",
       "      <td>0.000000e+00</td>\n",
       "      <td>0.000000e+00</td>\n",
       "      <td>0.000000e+00</td>\n",
       "      <td>0.000000e+00</td>\n",
       "      <td>0.000000e+00</td>\n",
       "      <td>0.000000e+00</td>\n",
       "      <td>0.000000e+00</td>\n",
       "      <td>0.000000e+00</td>\n",
       "      <td>0.000000e+00</td>\n",
       "      <td>0.000000e+00</td>\n",
       "      <td>0.000000e+00</td>\n",
       "      <td>0.000000e+00</td>\n",
       "      <td>0.000000e+00</td>\n",
       "      <td>0.000000e+00</td>\n",
       "      <td>0.000000e+00</td>\n",
       "      <td>0.000000e+00</td>\n",
       "      <td>0.000000e+00</td>\n",
       "      <td>0.000000e+00</td>\n",
       "      <td>0.000000e+00</td>\n",
       "      <td>0.000000e+00</td>\n",
       "      <td>0.000000e+00</td>\n",
       "      <td>0.000000e+00</td>\n",
       "      <td>0.000000e+00</td>\n",
       "      <td>0.000000e+00</td>\n",
       "      <td>0.000000e+00</td>\n",
       "      <td>0.000000e+00</td>\n",
       "      <td>0.000000e+00</td>\n",
       "      <td>0.000000e+00</td>\n",
       "      <td>0.000000e+00</td>\n",
       "      <td>0.000000e+00</td>\n",
       "      <td>0.000000e+00</td>\n",
       "      <td>0.000000e+00</td>\n",
       "      <td>0.000000e+00</td>\n",
       "      <td>0.000000e+00</td>\n",
       "      <td>0.000000e+00</td>\n",
       "    </tr>\n",
       "    <tr>\n",
       "      <th>25%</th>\n",
       "      <td>7.125000e+03</td>\n",
       "      <td>7.125000e+03</td>\n",
       "      <td>7.100000e+03</td>\n",
       "      <td>9.170000e-02</td>\n",
       "      <td>2.369800e+02</td>\n",
       "      <td>4.500000e+04</td>\n",
       "      <td>1.192000e+01</td>\n",
       "      <td>0.000000e+00</td>\n",
       "      <td>6.700000e+02</td>\n",
       "      <td>6.740000e+02</td>\n",
       "      <td>0.000000e+00</td>\n",
       "      <td>8.000000e+00</td>\n",
       "      <td>0.000000e+00</td>\n",
       "      <td>6.055000e+03</td>\n",
       "      <td>3.530000e-01</td>\n",
       "      <td>1.600000e+01</td>\n",
       "      <td>0.000000e+00</td>\n",
       "      <td>0.000000e+00</td>\n",
       "      <td>7.066841e+03</td>\n",
       "      <td>7.063740e+03</td>\n",
       "      <td>5.780600e+03</td>\n",
       "      <td>8.592800e+02</td>\n",
       "      <td>0.000000e+00</td>\n",
       "      <td>0.000000e+00</td>\n",
       "      <td>0.000000e+00</td>\n",
       "      <td>3.296000e+02</td>\n",
       "      <td>6.290000e+02</td>\n",
       "      <td>6.250000e+02</td>\n",
       "      <td>0.000000e+00</td>\n",
       "      <td>0.000000e+00</td>\n",
       "      <td>0.000000e+00</td>\n",
       "      <td>2.764300e+04</td>\n",
       "      <td>0.000000e+00</td>\n",
       "      <td>0.000000e+00</td>\n",
       "      <td>0.000000e+00</td>\n",
       "      <td>0.000000e+00</td>\n",
       "      <td>0.000000e+00</td>\n",
       "      <td>0.000000e+00</td>\n",
       "      <td>0.000000e+00</td>\n",
       "      <td>0.000000e+00</td>\n",
       "      <td>...</td>\n",
       "      <td>0.000000e+00</td>\n",
       "      <td>0.000000e+00</td>\n",
       "      <td>0.000000e+00</td>\n",
       "      <td>0.000000e+00</td>\n",
       "      <td>0.000000e+00</td>\n",
       "      <td>0.000000e+00</td>\n",
       "      <td>0.000000e+00</td>\n",
       "      <td>0.000000e+00</td>\n",
       "      <td>0.000000e+00</td>\n",
       "      <td>0.000000e+00</td>\n",
       "      <td>0.000000e+00</td>\n",
       "      <td>0.000000e+00</td>\n",
       "      <td>0.000000e+00</td>\n",
       "      <td>0.000000e+00</td>\n",
       "      <td>0.000000e+00</td>\n",
       "      <td>0.000000e+00</td>\n",
       "      <td>0.000000e+00</td>\n",
       "      <td>0.000000e+00</td>\n",
       "      <td>0.000000e+00</td>\n",
       "      <td>0.000000e+00</td>\n",
       "      <td>0.000000e+00</td>\n",
       "      <td>0.000000e+00</td>\n",
       "      <td>0.000000e+00</td>\n",
       "      <td>0.000000e+00</td>\n",
       "      <td>0.000000e+00</td>\n",
       "      <td>0.000000e+00</td>\n",
       "      <td>0.000000e+00</td>\n",
       "      <td>0.000000e+00</td>\n",
       "      <td>0.000000e+00</td>\n",
       "      <td>0.000000e+00</td>\n",
       "      <td>0.000000e+00</td>\n",
       "      <td>0.000000e+00</td>\n",
       "      <td>0.000000e+00</td>\n",
       "      <td>0.000000e+00</td>\n",
       "      <td>0.000000e+00</td>\n",
       "      <td>0.000000e+00</td>\n",
       "      <td>0.000000e+00</td>\n",
       "      <td>0.000000e+00</td>\n",
       "      <td>0.000000e+00</td>\n",
       "      <td>0.000000e+00</td>\n",
       "    </tr>\n",
       "    <tr>\n",
       "      <th>50%</th>\n",
       "      <td>1.200000e+04</td>\n",
       "      <td>1.200000e+04</td>\n",
       "      <td>1.195000e+04</td>\n",
       "      <td>1.229000e-01</td>\n",
       "      <td>3.627800e+02</td>\n",
       "      <td>6.400000e+04</td>\n",
       "      <td>1.768000e+01</td>\n",
       "      <td>0.000000e+00</td>\n",
       "      <td>6.850000e+02</td>\n",
       "      <td>6.890000e+02</td>\n",
       "      <td>0.000000e+00</td>\n",
       "      <td>1.100000e+01</td>\n",
       "      <td>0.000000e+00</td>\n",
       "      <td>1.113500e+04</td>\n",
       "      <td>5.350000e-01</td>\n",
       "      <td>2.300000e+01</td>\n",
       "      <td>0.000000e+00</td>\n",
       "      <td>0.000000e+00</td>\n",
       "      <td>1.204585e+04</td>\n",
       "      <td>1.204157e+04</td>\n",
       "      <td>1.000000e+04</td>\n",
       "      <td>1.614420e+03</td>\n",
       "      <td>0.000000e+00</td>\n",
       "      <td>0.000000e+00</td>\n",
       "      <td>0.000000e+00</td>\n",
       "      <td>9.881000e+02</td>\n",
       "      <td>6.940000e+02</td>\n",
       "      <td>6.900000e+02</td>\n",
       "      <td>0.000000e+00</td>\n",
       "      <td>0.000000e+00</td>\n",
       "      <td>0.000000e+00</td>\n",
       "      <td>7.225100e+04</td>\n",
       "      <td>0.000000e+00</td>\n",
       "      <td>0.000000e+00</td>\n",
       "      <td>0.000000e+00</td>\n",
       "      <td>0.000000e+00</td>\n",
       "      <td>0.000000e+00</td>\n",
       "      <td>0.000000e+00</td>\n",
       "      <td>0.000000e+00</td>\n",
       "      <td>0.000000e+00</td>\n",
       "      <td>...</td>\n",
       "      <td>0.000000e+00</td>\n",
       "      <td>0.000000e+00</td>\n",
       "      <td>0.000000e+00</td>\n",
       "      <td>0.000000e+00</td>\n",
       "      <td>0.000000e+00</td>\n",
       "      <td>0.000000e+00</td>\n",
       "      <td>0.000000e+00</td>\n",
       "      <td>0.000000e+00</td>\n",
       "      <td>1.000000e+00</td>\n",
       "      <td>0.000000e+00</td>\n",
       "      <td>0.000000e+00</td>\n",
       "      <td>0.000000e+00</td>\n",
       "      <td>0.000000e+00</td>\n",
       "      <td>0.000000e+00</td>\n",
       "      <td>0.000000e+00</td>\n",
       "      <td>0.000000e+00</td>\n",
       "      <td>0.000000e+00</td>\n",
       "      <td>0.000000e+00</td>\n",
       "      <td>0.000000e+00</td>\n",
       "      <td>0.000000e+00</td>\n",
       "      <td>0.000000e+00</td>\n",
       "      <td>0.000000e+00</td>\n",
       "      <td>0.000000e+00</td>\n",
       "      <td>0.000000e+00</td>\n",
       "      <td>0.000000e+00</td>\n",
       "      <td>0.000000e+00</td>\n",
       "      <td>0.000000e+00</td>\n",
       "      <td>0.000000e+00</td>\n",
       "      <td>0.000000e+00</td>\n",
       "      <td>1.000000e+00</td>\n",
       "      <td>0.000000e+00</td>\n",
       "      <td>0.000000e+00</td>\n",
       "      <td>0.000000e+00</td>\n",
       "      <td>0.000000e+00</td>\n",
       "      <td>0.000000e+00</td>\n",
       "      <td>0.000000e+00</td>\n",
       "      <td>0.000000e+00</td>\n",
       "      <td>0.000000e+00</td>\n",
       "      <td>0.000000e+00</td>\n",
       "      <td>0.000000e+00</td>\n",
       "    </tr>\n",
       "    <tr>\n",
       "      <th>75%</th>\n",
       "      <td>1.900000e+04</td>\n",
       "      <td>1.900000e+04</td>\n",
       "      <td>1.900000e+04</td>\n",
       "      <td>1.531000e-01</td>\n",
       "      <td>5.732100e+02</td>\n",
       "      <td>9.000000e+04</td>\n",
       "      <td>2.410000e+01</td>\n",
       "      <td>0.000000e+00</td>\n",
       "      <td>7.100000e+02</td>\n",
       "      <td>7.140000e+02</td>\n",
       "      <td>1.000000e+00</td>\n",
       "      <td>1.400000e+01</td>\n",
       "      <td>0.000000e+00</td>\n",
       "      <td>1.975600e+04</td>\n",
       "      <td>7.150000e-01</td>\n",
       "      <td>3.100000e+01</td>\n",
       "      <td>0.000000e+00</td>\n",
       "      <td>0.000000e+00</td>\n",
       "      <td>2.044783e+04</td>\n",
       "      <td>2.043808e+04</td>\n",
       "      <td>1.692500e+04</td>\n",
       "      <td>2.993670e+03</td>\n",
       "      <td>0.000000e+00</td>\n",
       "      <td>0.000000e+00</td>\n",
       "      <td>0.000000e+00</td>\n",
       "      <td>5.555235e+03</td>\n",
       "      <td>7.340000e+02</td>\n",
       "      <td>7.300000e+02</td>\n",
       "      <td>0.000000e+00</td>\n",
       "      <td>0.000000e+00</td>\n",
       "      <td>0.000000e+00</td>\n",
       "      <td>2.007135e+05</td>\n",
       "      <td>0.000000e+00</td>\n",
       "      <td>0.000000e+00</td>\n",
       "      <td>0.000000e+00</td>\n",
       "      <td>0.000000e+00</td>\n",
       "      <td>0.000000e+00</td>\n",
       "      <td>1.000000e+00</td>\n",
       "      <td>0.000000e+00</td>\n",
       "      <td>0.000000e+00</td>\n",
       "      <td>...</td>\n",
       "      <td>0.000000e+00</td>\n",
       "      <td>0.000000e+00</td>\n",
       "      <td>0.000000e+00</td>\n",
       "      <td>0.000000e+00</td>\n",
       "      <td>0.000000e+00</td>\n",
       "      <td>0.000000e+00</td>\n",
       "      <td>0.000000e+00</td>\n",
       "      <td>0.000000e+00</td>\n",
       "      <td>1.000000e+00</td>\n",
       "      <td>0.000000e+00</td>\n",
       "      <td>0.000000e+00</td>\n",
       "      <td>0.000000e+00</td>\n",
       "      <td>0.000000e+00</td>\n",
       "      <td>0.000000e+00</td>\n",
       "      <td>0.000000e+00</td>\n",
       "      <td>0.000000e+00</td>\n",
       "      <td>0.000000e+00</td>\n",
       "      <td>0.000000e+00</td>\n",
       "      <td>0.000000e+00</td>\n",
       "      <td>0.000000e+00</td>\n",
       "      <td>0.000000e+00</td>\n",
       "      <td>0.000000e+00</td>\n",
       "      <td>0.000000e+00</td>\n",
       "      <td>0.000000e+00</td>\n",
       "      <td>0.000000e+00</td>\n",
       "      <td>0.000000e+00</td>\n",
       "      <td>0.000000e+00</td>\n",
       "      <td>0.000000e+00</td>\n",
       "      <td>0.000000e+00</td>\n",
       "      <td>1.000000e+00</td>\n",
       "      <td>0.000000e+00</td>\n",
       "      <td>0.000000e+00</td>\n",
       "      <td>0.000000e+00</td>\n",
       "      <td>0.000000e+00</td>\n",
       "      <td>0.000000e+00</td>\n",
       "      <td>0.000000e+00</td>\n",
       "      <td>0.000000e+00</td>\n",
       "      <td>0.000000e+00</td>\n",
       "      <td>0.000000e+00</td>\n",
       "      <td>0.000000e+00</td>\n",
       "    </tr>\n",
       "    <tr>\n",
       "      <th>max</th>\n",
       "      <td>4.000000e+04</td>\n",
       "      <td>4.000000e+04</td>\n",
       "      <td>4.000000e+04</td>\n",
       "      <td>3.099000e-01</td>\n",
       "      <td>1.715420e+03</td>\n",
       "      <td>6.100000e+07</td>\n",
       "      <td>4.996000e+01</td>\n",
       "      <td>3.000000e+01</td>\n",
       "      <td>8.450000e+02</td>\n",
       "      <td>8.500000e+02</td>\n",
       "      <td>8.000000e+00</td>\n",
       "      <td>9.000000e+01</td>\n",
       "      <td>8.600000e+01</td>\n",
       "      <td>2.904836e+06</td>\n",
       "      <td>8.923000e+00</td>\n",
       "      <td>1.760000e+02</td>\n",
       "      <td>5.702630e+03</td>\n",
       "      <td>5.702630e+03</td>\n",
       "      <td>6.355109e+04</td>\n",
       "      <td>6.355109e+04</td>\n",
       "      <td>4.000000e+04</td>\n",
       "      <td>2.849914e+04</td>\n",
       "      <td>1.598520e+03</td>\n",
       "      <td>3.944437e+04</td>\n",
       "      <td>6.687623e+03</td>\n",
       "      <td>4.139944e+04</td>\n",
       "      <td>8.500000e+02</td>\n",
       "      <td>8.450000e+02</td>\n",
       "      <td>2.000000e+01</td>\n",
       "      <td>1.400000e+01</td>\n",
       "      <td>9.152545e+06</td>\n",
       "      <td>8.000078e+06</td>\n",
       "      <td>1.000000e+01</td>\n",
       "      <td>1.854080e+05</td>\n",
       "      <td>1.200000e+01</td>\n",
       "      <td>8.500000e+01</td>\n",
       "      <td>1.000000e+00</td>\n",
       "      <td>1.000000e+00</td>\n",
       "      <td>1.000000e+00</td>\n",
       "      <td>1.000000e+00</td>\n",
       "      <td>...</td>\n",
       "      <td>1.000000e+00</td>\n",
       "      <td>1.000000e+00</td>\n",
       "      <td>1.000000e+00</td>\n",
       "      <td>1.000000e+00</td>\n",
       "      <td>1.000000e+00</td>\n",
       "      <td>1.000000e+00</td>\n",
       "      <td>1.000000e+00</td>\n",
       "      <td>1.000000e+00</td>\n",
       "      <td>1.000000e+00</td>\n",
       "      <td>1.000000e+00</td>\n",
       "      <td>1.000000e+00</td>\n",
       "      <td>1.000000e+00</td>\n",
       "      <td>1.000000e+00</td>\n",
       "      <td>1.000000e+00</td>\n",
       "      <td>1.000000e+00</td>\n",
       "      <td>1.000000e+00</td>\n",
       "      <td>1.000000e+00</td>\n",
       "      <td>1.000000e+00</td>\n",
       "      <td>1.000000e+00</td>\n",
       "      <td>1.000000e+00</td>\n",
       "      <td>1.000000e+00</td>\n",
       "      <td>1.000000e+00</td>\n",
       "      <td>1.000000e+00</td>\n",
       "      <td>1.000000e+00</td>\n",
       "      <td>1.000000e+00</td>\n",
       "      <td>1.000000e+00</td>\n",
       "      <td>1.000000e+00</td>\n",
       "      <td>1.000000e+00</td>\n",
       "      <td>1.000000e+00</td>\n",
       "      <td>1.000000e+00</td>\n",
       "      <td>1.000000e+00</td>\n",
       "      <td>1.000000e+00</td>\n",
       "      <td>1.000000e+00</td>\n",
       "      <td>1.000000e+00</td>\n",
       "      <td>1.000000e+00</td>\n",
       "      <td>1.000000e+00</td>\n",
       "      <td>1.000000e+00</td>\n",
       "      <td>1.000000e+00</td>\n",
       "      <td>1.000000e+00</td>\n",
       "      <td>1.000000e+00</td>\n",
       "    </tr>\n",
       "  </tbody>\n",
       "</table>\n",
       "<p>8 rows × 333 columns</p>\n",
       "</div>"
      ],
      "text/plain": [
       "          loan_amnt  ...  mths_since_recent_revol_delinq11\n",
       "count  1.092919e+06  ...                      1.092919e+06\n",
       "mean   1.364630e+04  ...                      3.278926e-02\n",
       "std    8.441163e+03  ...                      1.780847e-01\n",
       "min    1.000000e+03  ...                      0.000000e+00\n",
       "25%    7.125000e+03  ...                      0.000000e+00\n",
       "50%    1.200000e+04  ...                      0.000000e+00\n",
       "75%    1.900000e+04  ...                      0.000000e+00\n",
       "max    4.000000e+04  ...                      1.000000e+00\n",
       "\n",
       "[8 rows x 333 columns]"
      ]
     },
     "execution_count": 6,
     "metadata": {
      "tags": []
     },
     "output_type": "execute_result"
    }
   ],
   "source": [
    "df.describe()"
   ]
  },
  {
   "cell_type": "markdown",
   "metadata": {
    "id": "Oh6uI_lNalLq"
   },
   "source": [
    "## 2. Data Preprocessing"
   ]
  },
  {
   "cell_type": "markdown",
   "metadata": {
    "id": "c0a-jHFZNG0l"
   },
   "source": []
  },
  {
   "cell_type": "markdown",
   "metadata": {
    "id": "PDH3YIZaalLr"
   },
   "source": [
    "### 2.1 결측치 처리"
   ]
  },
  {
   "cell_type": "code",
   "execution_count": null,
   "metadata": {
    "id": "LxYaWJHoalLr",
    "outputId": "31a71706-bfef-476d-a8b8-418269154894"
   },
   "outputs": [
    {
     "data": {
      "text/plain": [
       "Text(0, 0.5, 'Feature count')"
      ]
     },
     "execution_count": 20,
     "metadata": {
      "tags": []
     },
     "output_type": "execute_result"
    },
    {
     "data": {
      "image/png": "[encoded data removed]",
      "text/plain": [
       "<Figure size 540x270 with 1 Axes>"
      ]
     },
     "metadata": {
      "needs_background": "light",
      "tags": []
     },
     "output_type": "display_data"
    }
   ],
   "source": [
    "#결측치 비율 확인\n",
    "missing_fractions = df.isnull().mean().sort_values(ascending=False)\n",
    "\n",
    "plt.figure(figsize=(6,3), dpi=90)\n",
    "missing_fractions.plot.hist(bins=20)\n",
    "plt.title('Histogram of Feature Incompleteness')\n",
    "plt.xlabel('Fraction of data missing')\n",
    "plt.ylabel('Feature count')"
   ]
  },
  {
   "cell_type": "markdown",
   "metadata": {
    "id": "j9OdCx4UW2T4"
   },
   "source": [
    "### 2.2. 후행 변수 제거"
   ]
  },
  {
   "cell_type": "code",
   "execution_count": null,
   "metadata": {
    "id": "vWY78bprgJHZ"
   },
   "outputs": [],
   "source": [
    "#후행 변수 제거\n",
    "columns = ['out_prncp','out_prncp_inv','total_pymnt','total_pymnt_inv',\n",
    "           'total_rec_prncp','total_rec_int','total_rec_late_fee','recoveries',\n",
    "           'collection_recovery_fee','last_pymnt_amnt','last_fico_range_high',\n",
    "           'last_fico_range_low','elapsed_t','debt_settlement_flag1','term1']\n",
    "           \n",
    "df2 = df.drop(columns,axis=1)"
   ]
  },
  {
   "cell_type": "code",
   "execution_count": null,
   "metadata": {
    "colab": {
     "base_uri": "https://localhost:8080/"
    },
    "id": "K7D9RvSAhZ4b",
    "outputId": "17908d10-514b-4ce3-b795-dab873993292"
   },
   "outputs": [
    {
     "data": {
      "text/plain": [
       "array([[916095,      0],\n",
       "       [ 37777, 139047]])"
      ]
     },
     "execution_count": 8,
     "metadata": {
      "tags": []
     },
     "output_type": "execute_result"
    }
   ],
   "source": [
    "#후행 변수의 영향 확인\n",
    "result = []\n",
    "#thres = ???\n",
    "\n",
    "for i in range(len(df['recoveries'])):\n",
    "  if df['recoveries'][i]!=0:\n",
    "    result.append(1)\n",
    "  else :\n",
    "    result.append(0)\n",
    "\n",
    "mat = confusion_matrix(df['depvar'],result)\n",
    "mat"
   ]
  },
  {
   "cell_type": "code",
   "execution_count": null,
   "metadata": {
    "colab": {
     "base_uri": "https://localhost:8080/",
     "height": 265
    },
    "id": "9-V_lUxBGwat",
    "outputId": "654ec57e-4468-40db-e674-fed908bef682"
   },
   "outputs": [
    {
     "data": {
      "image/png": "[encoded data removed]",
      "text/plain": [
       "<Figure size 432x288 with 1 Axes>"
      ]
     },
     "metadata": {
      "needs_background": "light",
      "tags": []
     },
     "output_type": "display_data"
    }
   ],
   "source": [
    "x1 = df['recoveries'][df['depvar']==0]\n",
    "x2 = df['recoveries'][df['depvar']==1]\n",
    "plt.boxplot(x1)\n",
    "plt.boxplot(x2)\n",
    "plt.show()"
   ]
  },
  {
   "cell_type": "code",
   "execution_count": null,
   "metadata": {
    "id": "wN4Sv_eQ9ZOg"
   },
   "outputs": [],
   "source": [
    "#시간(t)을 나타내는 변수(=issue_d) 제거\n",
    "issues = df2.iloc[:,111:230].columns\n",
    "df3 = df2.drop(issues,axis=1)"
   ]
  },
  {
   "cell_type": "code",
   "execution_count": null,
   "metadata": {
    "colab": {
     "base_uri": "https://localhost:8080/",
     "height": 361
    },
    "id": "GMQyBn82TS9l",
    "outputId": "275ed14b-497e-4fda-a641-f813e11416a0"
   },
   "outputs": [
    {
     "data": {
      "image/png": "[encoded data removed]",
      "text/plain": [
       "<Figure size 576x396 with 25 Axes>"
      ]
     },
     "metadata": {
      "tags": []
     },
     "output_type": "display_data"
    }
   ],
   "source": [
    "#연속형 변수의 분포 파악\n",
    "df_quan = df3.iloc[:,:23]\n",
    "cols = df_quan.columns\n",
    "\n",
    "m = [0,0,0,0,0,1,1,1,1,1,2,2,2,2,2,3,3,3,3,3,4,4,4,4,4]\n",
    "n = [0,1,2,3,4,0,1,2,3,4,0,1,2,3,4,0,1,2,3,4,0,1,2,3,4]\n",
    "\n",
    "f,axes = plt.subplots(5,5)\n",
    "for col,m,n in zip(cols,m,n):\n",
    "  sb.distplot(df_quan[col],ax=axes[m,n])"
   ]
  },
  {
   "cell_type": "code",
   "execution_count": null,
   "metadata": {
    "colab": {
     "base_uri": "https://localhost:8080/",
     "height": 422
    },
    "id": "Y9PzdJJDheuG",
    "outputId": "f09582a0-1168-4bcd-d8a8-729f998f5fd6"
   },
   "outputs": [
    {
     "data": {
      "text/plain": [
       "<matplotlib.axes._subplots.AxesSubplot at 0x7fe2c0a5fe10>"
      ]
     },
     "execution_count": 25,
     "metadata": {
      "tags": []
     },
     "output_type": "execute_result"
    },
    {
     "data": {
      "image/png": "[encoded data removed]",
      "text/plain": [
       "<Figure size 432x288 with 2 Axes>"
      ]
     },
     "metadata": {
      "needs_background": "light",
      "tags": []
     },
     "output_type": "display_data"
    }
   ],
   "source": [
    "#연속형 변수 상관계수 확인\n",
    "df_quan = df3.iloc[:,:23]\n",
    "sb.heatmap(df_quan.corr(), annot=False, fmt='.2f')"
   ]
  },
  {
   "cell_type": "markdown",
   "metadata": {
    "id": "bvwodSxXalL3"
   },
   "source": [
    "### 2.3 상관관계 - 분산팽창지수 확인 (VIF)"
   ]
  },
  {
   "cell_type": "code",
   "execution_count": null,
   "metadata": {
    "id": "YRynke_lIt-d"
   },
   "outputs": [],
   "source": [
    "from patsy import dmatrices\n",
    "import statsmodels.api as sm\n",
    "from statsmodels.stats.outliers_influence import variance_inflation_factor"
   ]
  },
  {
   "cell_type": "code",
   "execution_count": null,
   "metadata": {
    "id": "qTVt8z7nXNg6"
   },
   "outputs": [],
   "source": [
    "features=\"loan_amnt+funded_amnt+funded_amnt_inv+int_rate+installment+annual_inc+dti+fico_range_low+fico_range_high+open_acc+pub_rec+revol_util+total_acc+tot_cur_bal+pub_rec_bankruptcies\""
   ]
  },
  {
   "cell_type": "code",
   "execution_count": null,
   "metadata": {
    "id": "Ty7xkxWlXNg6"
   },
   "outputs": [],
   "source": [
    "y, X = dmatrices(\"depvar ~\" + features, data=df3, return_type = \"dataframe\")\n",
    "\n",
    "vif = [variance_inflation_factor(X.values, i) for i in range(X.shape[1])]\n",
    "\n",
    "result = sm.OLS(y,X).fit()"
   ]
  },
  {
   "cell_type": "code",
   "execution_count": null,
   "metadata": {
    "colab": {
     "base_uri": "https://localhost:8080/"
    },
    "id": "gd3IzDZJXNg6",
    "outputId": "42047953-dda1-4381-aa53-bdddabba15e5"
   },
   "outputs": [
    {
     "name": "stdout",
     "output_type": "stream",
     "text": [
      "                            OLS Regression Results                            \n",
      "==============================================================================\n",
      "Dep. Variable:                 depvar   R-squared:                       0.057\n",
      "Model:                            OLS   Adj. R-squared:                  0.057\n",
      "Method:                 Least Squares   F-statistic:                     4440.\n",
      "Date:                Sat, 30 Jan 2021   Prob (F-statistic):               0.00\n",
      "Time:                        04:24:04   Log-Likelihood:            -4.2667e+05\n",
      "No. Observations:             1092919   AIC:                         8.534e+05\n",
      "Df Residuals:                 1092903   BIC:                         8.536e+05\n",
      "Df Model:                          15                                         \n",
      "Covariance Type:            nonrobust                                         \n",
      "========================================================================================\n",
      "                           coef    std err          t      P>|t|      [0.025      0.975]\n",
      "----------------------------------------------------------------------------------------\n",
      "Intercept                0.0880      0.120      0.734      0.463      -0.147       0.323\n",
      "loan_amnt             2.274e-05   2.73e-05      0.832      0.405   -3.08e-05    7.63e-05\n",
      "funded_amnt          -5.073e-06   2.96e-05     -0.171      0.864   -6.32e-05     5.3e-05\n",
      "funded_amnt_inv      -1.232e-05   1.14e-05     -1.078      0.281   -3.47e-05    1.01e-05\n",
      "int_rate                 1.6581      0.009    186.722      0.000       1.641       1.675\n",
      "installment             -0.0001   5.41e-06    -22.653      0.000      -0.000      -0.000\n",
      "annual_inc           -7.689e-09   4.14e-09     -1.859      0.063   -1.58e-08    4.17e-10\n",
      "dti                      0.0023   4.58e-05     50.709      0.000       0.002       0.002\n",
      "fico_range_low          -0.0614      0.030     -2.050      0.040      -0.120      -0.003\n",
      "fico_range_high          0.0608      0.030      2.030      0.042       0.002       0.120\n",
      "open_acc                 0.0020   9.24e-05     22.157      0.000       0.002       0.002\n",
      "pub_rec                  0.0021      0.001      3.131      0.002       0.001       0.003\n",
      "revol_util              -0.0476      0.002    -26.916      0.000      -0.051      -0.044\n",
      "total_acc               -0.0007   4.21e-05    -17.742      0.000      -0.001      -0.001\n",
      "tot_cur_bal          -1.055e-07   2.56e-09    -41.260      0.000   -1.11e-07   -1.01e-07\n",
      "pub_rec_bankruptcies     0.0047      0.001      4.029      0.000       0.002       0.007\n",
      "==============================================================================\n",
      "Omnibus:                   289083.977   Durbin-Watson:                   1.993\n",
      "Prob(Omnibus):                  0.000   Jarque-Bera (JB):           579853.368\n",
      "Skew:                           1.677   Prob(JB):                         0.00\n",
      "Kurtosis:                       4.220   Cond. No.                     8.22e+07\n",
      "==============================================================================\n",
      "\n",
      "Warnings:\n",
      "[1] Standard Errors assume that the covariance matrix of the errors is correctly specified.\n",
      "[2] The condition number is large, 8.22e+07. This might indicate that there are\n",
      "strong multicollinearity or other numerical problems.\n"
     ]
    }
   ],
   "source": [
    "print(result.summary())\n",
    "#다중회귀분석이기 때문에 R-squared값 대신 Adj. R-squared값을 보자. Adj. R-squared값이 0.225로 나와있는 것을 볼 수 있다. 이는 회귀모형의 설명력이 22.5%라는 뜻\n",
    "#F값이 12.02, 유의확률(Pr>F)은 0.000"
   ]
  },
  {
   "cell_type": "code",
   "execution_count": null,
   "metadata": {
    "id": "vn58jjVvXNg7"
   },
   "outputs": [],
   "source": [
    "# VIF 체크\n",
    "y, X = dmatrices(\"depvar ~\" + features, data=df3, return_type = \"dataframe\")\n",
    "vif = pd.DataFrame()\n",
    "vif[\"VIF Factor\"] = [variance_inflation_factor(X.values, i) for i in range(X.shape[1])]\n",
    "vif[\"features\"] = X.columns"
   ]
  },
  {
   "cell_type": "code",
   "execution_count": null,
   "metadata": {
    "colab": {
     "base_uri": "https://localhost:8080/",
     "height": 539
    },
    "id": "YYxQSHVPXNg7",
    "outputId": "b6a89881-9969-44f4-ec87-5542c2e13e19"
   },
   "outputs": [
    {
     "data": {
      "text/html": [
       "<div>\n",
       "<style scoped>\n",
       "    .dataframe tbody tr th:only-of-type {\n",
       "        vertical-align: middle;\n",
       "    }\n",
       "\n",
       "    .dataframe tbody tr th {\n",
       "        vertical-align: top;\n",
       "    }\n",
       "\n",
       "    .dataframe thead th {\n",
       "        text-align: right;\n",
       "    }\n",
       "</style>\n",
       "<table border=\"1\" class=\"dataframe\">\n",
       "  <thead>\n",
       "    <tr style=\"text-align: right;\">\n",
       "      <th></th>\n",
       "      <th>VIF Factor</th>\n",
       "      <th>features</th>\n",
       "    </tr>\n",
       "  </thead>\n",
       "  <tbody>\n",
       "    <tr>\n",
       "      <th>0</th>\n",
       "      <td>122679.0</td>\n",
       "      <td>Intercept</td>\n",
       "    </tr>\n",
       "    <tr>\n",
       "      <th>1</th>\n",
       "      <td>454932.7</td>\n",
       "      <td>loan_amnt</td>\n",
       "    </tr>\n",
       "    <tr>\n",
       "      <th>2</th>\n",
       "      <td>535539.5</td>\n",
       "      <td>funded_amnt</td>\n",
       "    </tr>\n",
       "    <tr>\n",
       "      <th>3</th>\n",
       "      <td>79539.4</td>\n",
       "      <td>funded_amnt_inv</td>\n",
       "    </tr>\n",
       "    <tr>\n",
       "      <th>4</th>\n",
       "      <td>1.3</td>\n",
       "      <td>int_rate</td>\n",
       "    </tr>\n",
       "    <tr>\n",
       "      <th>5</th>\n",
       "      <td>17.6</td>\n",
       "      <td>installment</td>\n",
       "    </tr>\n",
       "    <tr>\n",
       "      <th>6</th>\n",
       "      <td>1.2</td>\n",
       "      <td>annual_inc</td>\n",
       "    </tr>\n",
       "    <tr>\n",
       "      <th>7</th>\n",
       "      <td>1.2</td>\n",
       "      <td>dti</td>\n",
       "    </tr>\n",
       "    <tr>\n",
       "      <th>8</th>\n",
       "      <td>7189588.5</td>\n",
       "      <td>fico_range_low</td>\n",
       "    </tr>\n",
       "    <tr>\n",
       "      <th>9</th>\n",
       "      <td>7189533.0</td>\n",
       "      <td>fico_range_high</td>\n",
       "    </tr>\n",
       "    <tr>\n",
       "      <th>10</th>\n",
       "      <td>2.1</td>\n",
       "      <td>open_acc</td>\n",
       "    </tr>\n",
       "    <tr>\n",
       "      <th>11</th>\n",
       "      <td>1.6</td>\n",
       "      <td>pub_rec</td>\n",
       "    </tr>\n",
       "    <tr>\n",
       "      <th>12</th>\n",
       "      <td>1.5</td>\n",
       "      <td>revol_util</td>\n",
       "    </tr>\n",
       "    <tr>\n",
       "      <th>13</th>\n",
       "      <td>2.1</td>\n",
       "      <td>total_acc</td>\n",
       "    </tr>\n",
       "    <tr>\n",
       "      <th>14</th>\n",
       "      <td>1.3</td>\n",
       "      <td>tot_cur_bal</td>\n",
       "    </tr>\n",
       "    <tr>\n",
       "      <th>15</th>\n",
       "      <td>1.7</td>\n",
       "      <td>pub_rec_bankruptcies</td>\n",
       "    </tr>\n",
       "  </tbody>\n",
       "</table>\n",
       "</div>"
      ],
      "text/plain": [
       "    VIF Factor              features\n",
       "0     122679.0             Intercept\n",
       "1     454932.7             loan_amnt\n",
       "2     535539.5           funded_amnt\n",
       "3      79539.4       funded_amnt_inv\n",
       "4          1.3              int_rate\n",
       "5         17.6           installment\n",
       "6          1.2            annual_inc\n",
       "7          1.2                   dti\n",
       "8    7189588.5        fico_range_low\n",
       "9    7189533.0       fico_range_high\n",
       "10         2.1              open_acc\n",
       "11         1.6               pub_rec\n",
       "12         1.5            revol_util\n",
       "13         2.1             total_acc\n",
       "14         1.3           tot_cur_bal\n",
       "15         1.7  pub_rec_bankruptcies"
      ]
     },
     "execution_count": 33,
     "metadata": {
      "tags": []
     },
     "output_type": "execute_result"
    }
   ],
   "source": [
    "vif.round(1)"
   ]
  },
  {
   "cell_type": "code",
   "execution_count": null,
   "metadata": {
    "id": "gzQbx5KXalL3"
   },
   "outputs": [],
   "source": [
    "#중복되는 열 처리 -> 근거 : vif 확인\n",
    "df4 = df3.drop(['loan_amnt','funded_amnt','installment','fico_range_high','open_acc','revol_util','pub_rec_bankruptcies'],axis=1)"
   ]
  },
  {
   "cell_type": "code",
   "execution_count": null,
   "metadata": {
    "id": "vwY-oUNzXNg8"
   },
   "outputs": [],
   "source": [
    "#features=\"funded_amnt+int_rate+annual_inc+dti\""
   ]
  },
  {
   "cell_type": "code",
   "execution_count": null,
   "metadata": {
    "id": "e3QqNKZGXNg9"
   },
   "outputs": [],
   "source": [
    "# VIF 체크\n",
    "#y, X = dmatrices(\"depvar ~\" + features, data=df, return_type = \"dataframe\")\n",
    "#vif = pd.DataFrame()\n",
    "#vif[\"VIF Factor\"] = [variance_inflation_factor(X.values, i) for i in range(X.shape[1])]\n",
    "#vif[\"features\"] = X.columns"
   ]
  },
  {
   "cell_type": "code",
   "execution_count": null,
   "metadata": {
    "colab": {
     "base_uri": "https://localhost:8080/",
     "height": 196
    },
    "id": "Y7_3n7PuXNg9",
    "outputId": "82826fe8-298b-4f85-e7b1-e0484f4a07c6"
   },
   "outputs": [
    {
     "data": {
      "text/html": [
       "<div>\n",
       "<style scoped>\n",
       "    .dataframe tbody tr th:only-of-type {\n",
       "        vertical-align: middle;\n",
       "    }\n",
       "\n",
       "    .dataframe tbody tr th {\n",
       "        vertical-align: top;\n",
       "    }\n",
       "\n",
       "    .dataframe thead th {\n",
       "        text-align: right;\n",
       "    }\n",
       "</style>\n",
       "<table border=\"1\" class=\"dataframe\">\n",
       "  <thead>\n",
       "    <tr style=\"text-align: right;\">\n",
       "      <th></th>\n",
       "      <th>VIF Factor</th>\n",
       "      <th>features</th>\n",
       "    </tr>\n",
       "  </thead>\n",
       "  <tbody>\n",
       "    <tr>\n",
       "      <th>0</th>\n",
       "      <td>15.6</td>\n",
       "      <td>Intercept</td>\n",
       "    </tr>\n",
       "    <tr>\n",
       "      <th>1</th>\n",
       "      <td>1.0</td>\n",
       "      <td>funded_amnt</td>\n",
       "    </tr>\n",
       "    <tr>\n",
       "      <th>2</th>\n",
       "      <td>1.0</td>\n",
       "      <td>int_rate</td>\n",
       "    </tr>\n",
       "    <tr>\n",
       "      <th>3</th>\n",
       "      <td>1.0</td>\n",
       "      <td>annual_inc</td>\n",
       "    </tr>\n",
       "    <tr>\n",
       "      <th>4</th>\n",
       "      <td>1.0</td>\n",
       "      <td>dti</td>\n",
       "    </tr>\n",
       "  </tbody>\n",
       "</table>\n",
       "</div>"
      ],
      "text/plain": [
       "   VIF Factor     features\n",
       "0        15.6    Intercept\n",
       "1         1.0  funded_amnt\n",
       "2         1.0     int_rate\n",
       "3         1.0   annual_inc\n",
       "4         1.0          dti"
      ]
     },
     "execution_count": 82,
     "metadata": {
      "tags": []
     },
     "output_type": "execute_result"
    }
   ],
   "source": [
    "#vif.round(1)"
   ]
  },
  {
   "cell_type": "code",
   "execution_count": null,
   "metadata": {
    "colab": {
     "base_uri": "https://localhost:8080/"
    },
    "id": "Cvh9wwTbalL3",
    "outputId": "4b42b4cb-0a64-46f2-ce95-b0657b277545"
   },
   "outputs": [
    {
     "data": {
      "text/plain": [
       "['funded_amnt_inv',\n",
       " 'int_rate',\n",
       " 'annual_inc',\n",
       " 'dti',\n",
       " 'delinq_2yrs',\n",
       " 'fico_range_low',\n",
       " 'inq_last_6mths',\n",
       " 'pub_rec',\n",
       " 'revol_bal',\n",
       " 'total_acc',\n",
       " 'collections_12_mths_ex_med',\n",
       " 'acc_now_delinq',\n",
       " 'tot_coll_amt',\n",
       " 'tot_cur_bal',\n",
       " 'chargeoff_within_12_mths',\n",
       " 'delinq_amnt',\n",
       " 'tax_liens',\n",
       " 'emp_length1',\n",
       " 'emp_length2',\n",
       " 'emp_length3',\n",
       " 'emp_length4',\n",
       " 'emp_length5',\n",
       " 'emp_length6',\n",
       " 'emp_length7',\n",
       " 'emp_length8',\n",
       " 'emp_length9',\n",
       " 'emp_length10',\n",
       " 'emp_length11',\n",
       " 'emp_length12',\n",
       " 'home_ownership1',\n",
       " 'home_ownership2',\n",
       " 'home_ownership3',\n",
       " 'home_ownership4',\n",
       " 'home_ownership5',\n",
       " 'home_ownership6',\n",
       " 'verification_status1',\n",
       " 'verification_status2',\n",
       " 'verification_status3',\n",
       " 'purpose1',\n",
       " 'purpose2',\n",
       " 'purpose3',\n",
       " 'purpose4',\n",
       " 'purpose5',\n",
       " 'purpose6',\n",
       " 'purpose7',\n",
       " 'purpose8',\n",
       " 'purpose9',\n",
       " 'purpose10',\n",
       " 'purpose11',\n",
       " 'purpose12',\n",
       " 'purpose13',\n",
       " 'purpose14',\n",
       " 'addr_state1',\n",
       " 'addr_state2',\n",
       " 'addr_state3',\n",
       " 'addr_state4',\n",
       " 'addr_state5',\n",
       " 'addr_state6',\n",
       " 'addr_state7',\n",
       " 'addr_state8',\n",
       " 'addr_state9',\n",
       " 'addr_state10',\n",
       " 'addr_state11',\n",
       " 'addr_state12',\n",
       " 'addr_state13',\n",
       " 'addr_state14',\n",
       " 'addr_state15',\n",
       " 'addr_state16',\n",
       " 'addr_state17',\n",
       " 'addr_state18',\n",
       " 'addr_state19',\n",
       " 'addr_state20',\n",
       " 'addr_state21',\n",
       " 'addr_state22',\n",
       " 'addr_state23',\n",
       " 'addr_state24',\n",
       " 'addr_state25',\n",
       " 'addr_state26',\n",
       " 'addr_state27',\n",
       " 'addr_state28',\n",
       " 'addr_state29',\n",
       " 'addr_state30',\n",
       " 'addr_state31',\n",
       " 'addr_state32',\n",
       " 'addr_state33',\n",
       " 'addr_state34',\n",
       " 'addr_state35',\n",
       " 'addr_state36',\n",
       " 'addr_state37',\n",
       " 'addr_state38',\n",
       " 'addr_state39',\n",
       " 'addr_state40',\n",
       " 'addr_state41',\n",
       " 'addr_state42',\n",
       " 'addr_state43',\n",
       " 'addr_state44',\n",
       " 'addr_state45',\n",
       " 'addr_state46',\n",
       " 'addr_state47',\n",
       " 'addr_state48',\n",
       " 'addr_state49',\n",
       " 'addr_state50',\n",
       " 'addr_state51',\n",
       " 'initial_list_status1',\n",
       " 'depvar',\n",
       " 'mths_since_last_delinq1',\n",
       " 'mths_since_last_delinq2',\n",
       " 'mths_since_last_delinq3',\n",
       " 'mths_since_last_delinq4',\n",
       " 'mths_since_last_delinq5',\n",
       " 'mths_since_last_delinq6',\n",
       " 'mths_since_last_delinq7',\n",
       " 'mths_since_last_delinq8',\n",
       " 'mths_since_last_delinq9',\n",
       " 'mths_since_last_delinq10',\n",
       " 'mths_since_last_delinq11',\n",
       " 'mths_since_last_major_derog1',\n",
       " 'mths_since_last_major_derog2',\n",
       " 'mths_since_last_major_derog3',\n",
       " 'mths_since_last_major_derog4',\n",
       " 'mths_since_last_major_derog5',\n",
       " 'mths_since_last_major_derog6',\n",
       " 'mths_since_last_major_derog7',\n",
       " 'mths_since_last_major_derog8',\n",
       " 'mths_since_last_major_derog9',\n",
       " 'mths_since_last_major_derog10',\n",
       " 'mths_since_last_major_derog11',\n",
       " 'mths_since_last_record1',\n",
       " 'mths_since_last_record2',\n",
       " 'mths_since_last_record3',\n",
       " 'mths_since_last_record4',\n",
       " 'mths_since_last_record5',\n",
       " 'mths_since_last_record6',\n",
       " 'mths_since_last_record7',\n",
       " 'mths_since_last_record8',\n",
       " 'mths_since_last_record9',\n",
       " 'mths_since_last_record10',\n",
       " 'mths_since_last_record11',\n",
       " 'mths_since_rcnt_il1',\n",
       " 'mths_since_rcnt_il2',\n",
       " 'mths_since_rcnt_il3',\n",
       " 'mths_since_rcnt_il4',\n",
       " 'mths_since_rcnt_il5',\n",
       " 'mths_since_rcnt_il6',\n",
       " 'mths_since_rcnt_il7',\n",
       " 'mths_since_rcnt_il8',\n",
       " 'mths_since_rcnt_il9',\n",
       " 'mths_since_rcnt_il10',\n",
       " 'mths_since_rcnt_il11',\n",
       " 'mths_since_recent_bc1',\n",
       " 'mths_since_recent_bc2',\n",
       " 'mths_since_recent_bc3',\n",
       " 'mths_since_recent_bc4',\n",
       " 'mths_since_recent_bc5',\n",
       " 'mths_since_recent_bc6',\n",
       " 'mths_since_recent_bc7',\n",
       " 'mths_since_recent_bc8',\n",
       " 'mths_since_recent_bc9',\n",
       " 'mths_since_recent_bc10',\n",
       " 'mths_since_recent_bc11',\n",
       " 'mths_since_recent_bc_dlq1',\n",
       " 'mths_since_recent_bc_dlq2',\n",
       " 'mths_since_recent_bc_dlq3',\n",
       " 'mths_since_recent_bc_dlq4',\n",
       " 'mths_since_recent_bc_dlq5',\n",
       " 'mths_since_recent_bc_dlq6',\n",
       " 'mths_since_recent_bc_dlq7',\n",
       " 'mths_since_recent_bc_dlq8',\n",
       " 'mths_since_recent_bc_dlq9',\n",
       " 'mths_since_recent_bc_dlq10',\n",
       " 'mths_since_recent_bc_dlq11',\n",
       " 'mths_since_recent_inq1',\n",
       " 'mths_since_recent_inq2',\n",
       " 'mths_since_recent_inq3',\n",
       " 'mths_since_recent_inq4',\n",
       " 'mths_since_recent_inq5',\n",
       " 'mths_since_recent_inq6',\n",
       " 'mths_since_recent_inq7',\n",
       " 'mths_since_recent_inq8',\n",
       " 'mths_since_recent_inq9',\n",
       " 'mths_since_recent_inq10',\n",
       " 'mths_since_recent_revol_delinq1',\n",
       " 'mths_since_recent_revol_delinq2',\n",
       " 'mths_since_recent_revol_delinq3',\n",
       " 'mths_since_recent_revol_delinq4',\n",
       " 'mths_since_recent_revol_delinq5',\n",
       " 'mths_since_recent_revol_delinq6',\n",
       " 'mths_since_recent_revol_delinq7',\n",
       " 'mths_since_recent_revol_delinq8',\n",
       " 'mths_since_recent_revol_delinq9',\n",
       " 'mths_since_recent_revol_delinq10',\n",
       " 'mths_since_recent_revol_delinq11']"
      ]
     },
     "execution_count": 13,
     "metadata": {
      "tags": []
     },
     "output_type": "execute_result"
    }
   ],
   "source": [
    "list(df4.columns)"
   ]
  },
  {
   "cell_type": "code",
   "execution_count": null,
   "metadata": {
    "colab": {
     "base_uri": "https://localhost:8080/"
    },
    "id": "-xkGxN6QalL3",
    "outputId": "3b962b33-1811-4e3e-c1fb-7c6e71e36258"
   },
   "outputs": [
    {
     "data": {
      "text/plain": [
       "(1092919, 192)"
      ]
     },
     "execution_count": 14,
     "metadata": {
      "tags": []
     },
     "output_type": "execute_result"
    }
   ],
   "source": [
    "df4.shape"
   ]
  },
  {
   "cell_type": "markdown",
   "metadata": {
    "id": "DJDrye13alLq"
   },
   "source": [
    "### 2.4 Down Sampling"
   ]
  },
  {
   "cell_type": "code",
   "execution_count": null,
   "metadata": {
    "id": "rlnhZwK-cuOo"
   },
   "outputs": [],
   "source": [
    "#전체 data 중 부도가 난 사람들의 비율(16%)\n",
    "before_a=len(df[df['depvar']==1])\n",
    "before_b=len(df[df['depvar']==0])"
   ]
  },
  {
   "cell_type": "code",
   "execution_count": null,
   "metadata": {
    "colab": {
     "base_uri": "https://localhost:8080/",
     "height": 301
    },
    "id": "T656MXNZcwis",
    "outputId": "bc9d9e85-048f-4f49-8faf-d9675a132d17"
   },
   "outputs": [
    {
     "data": {
      "text/plain": [
       "<module 'matplotlib.pyplot' from '/usr/local/lib/python3.6/dist-packages/matplotlib/pyplot.py'>"
      ]
     },
     "execution_count": 16,
     "metadata": {
      "tags": []
     },
     "output_type": "execute_result"
    },
    {
     "data": {
      "image/png": "[encoded data removed]",
      "text/plain": [
       "<Figure size 432x288 with 1 Axes>"
      ]
     },
     "metadata": {
      "tags": []
     },
     "output_type": "display_data"
    }
   ],
   "source": [
    "plt.title(\"전체 데이터 중 부도의 비율\")\n",
    "plt.pie([before_a,before_b],labels=['부도남','부도 안남'],autopct='%.1f%%',explode=[0,0.05],colors=['gold','silver'])\n",
    "plt"
   ]
  },
  {
   "cell_type": "code",
   "execution_count": null,
   "metadata": {
    "colab": {
     "base_uri": "https://localhost:8080/"
    },
    "id": "0JvetW-jalLr",
    "outputId": "f554d02f-1404-47e9-f33d-5958104f2951"
   },
   "outputs": [
    {
     "data": {
      "text/plain": [
       "0.5"
      ]
     },
     "execution_count": 15,
     "metadata": {
      "tags": []
     },
     "output_type": "execute_result"
    }
   ],
   "source": [
    "#down샘플링\n",
    "df_0 = df4.loc[df4['depvar']==0]\n",
    "df_1 = df4.loc[df4['depvar']==1]\n",
    "\n",
    "n_df_0 = len(df_0)\n",
    "n_df_1 = len(df_1)\n",
    "\n",
    "df_0_down = df_0.sample(n = n_df_1, replace = False)\n",
    "\n",
    "df = pd.concat([df_0_down,df_1],ignore_index=True)\n",
    "\n",
    "len(df['depvar'][df['depvar']==0])/len(df['depvar'])"
   ]
  },
  {
   "cell_type": "code",
   "execution_count": null,
   "metadata": {
    "colab": {
     "base_uri": "https://localhost:8080/",
     "height": 301
    },
    "id": "Mrx4UwfriLAN",
    "outputId": "e5d77662-7b99-4ad4-e416-3ff57e0998cf"
   },
   "outputs": [
    {
     "data": {
      "text/plain": [
       "<module 'matplotlib.pyplot' from '/usr/local/lib/python3.6/dist-packages/matplotlib/pyplot.py'>"
      ]
     },
     "execution_count": 18,
     "metadata": {
      "tags": []
     },
     "output_type": "execute_result"
    },
    {
     "data": {
      "image/png": "[encoded data removed]",
      "text/plain": [
       "<Figure size 432x288 with 1 Axes>"
      ]
     },
     "metadata": {
      "tags": []
     },
     "output_type": "display_data"
    }
   ],
   "source": [
    "plt.title(\"전체 데이터 중 수정된 부도의 비율 \")\n",
    "plt.pie([len(df['depvar'][df['depvar']==0]),len(df['depvar'][df['depvar']==1])],labels=['부도나지않음','부도'],autopct='%.1f%%',explode=[0,0.05],colors=['gold','silver'])\n",
    "plt"
   ]
  },
  {
   "cell_type": "markdown",
   "metadata": {
    "id": "NI9RLryCalL4"
   },
   "source": [
    "### 2.5 스케일링"
   ]
  },
  {
   "cell_type": "markdown",
   "metadata": {
    "id": "WtJfVj8palL4"
   },
   "source": [
    "#### 2.5.1 데이터 분리"
   ]
  },
  {
   "cell_type": "code",
   "execution_count": null,
   "metadata": {
    "colab": {
     "base_uri": "https://localhost:8080/"
    },
    "id": "sV5_vQCLpP_N",
    "outputId": "4d65a6bb-4df8-4667-a8ff-726a8723bd25"
   },
   "outputs": [
    {
     "data": {
      "text/plain": [
       "count    1.092919e+06\n",
       "mean     1.263927e-01\n",
       "std      4.361999e-02\n",
       "min      5.320000e-02\n",
       "25%      9.170000e-02\n",
       "50%      1.229000e-01\n",
       "75%      1.531000e-01\n",
       "max      3.099000e-01\n",
       "Name: int_rate, dtype: float64"
      ]
     },
     "execution_count": 16,
     "metadata": {
      "tags": []
     },
     "output_type": "execute_result"
    }
   ],
   "source": [
    "df4['int_rate'].describe()"
   ]
  },
  {
   "cell_type": "code",
   "execution_count": null,
   "metadata": {
    "id": "ttjeSF7TalL4"
   },
   "outputs": [],
   "source": [
    "X = df.drop('depvar', axis=1)\n",
    "y = df['depvar']"
   ]
  },
  {
   "cell_type": "code",
   "execution_count": null,
   "metadata": {
    "id": "nDNdw79nalL4"
   },
   "outputs": [],
   "source": [
    "# data를 training set과 test set으로 나누기\n",
    "from sklearn.model_selection import train_test_split\n",
    "\n",
    "X_train, X_test, y_train, y_test = train_test_split(\n",
    "    X, y, test_size=0.2, random_state=43)"
   ]
  },
  {
   "cell_type": "markdown",
   "metadata": {
    "id": "EHpDwmjRalL5"
   },
   "source": [
    "#### 2.5.2 RobustScaler "
   ]
  },
  {
   "cell_type": "code",
   "execution_count": null,
   "metadata": {
    "id": "KTvq6mvOalL5"
   },
   "outputs": [],
   "source": [
    "from sklearn.preprocessing import RobustScaler"
   ]
  },
  {
   "cell_type": "code",
   "execution_count": null,
   "metadata": {
    "id": "Skx9ubZ8alL5"
   },
   "outputs": [],
   "source": [
    "robustScaler = RobustScaler()\n",
    "robustScaler.fit(X_train)\n",
    "X_train = robustScaler.transform(X_train)\n",
    "X_test = robustScaler.transform(X_test)"
   ]
  },
  {
   "cell_type": "markdown",
   "metadata": {
    "id": "SxFPgka9alL5"
   },
   "source": [
    "## 3. 모델 생성(지도학습)"
   ]
  },
  {
   "cell_type": "markdown",
   "metadata": {
    "id": "f3gTjmCSalL5"
   },
   "source": [
    "### 3.1 선형 회귀(LinearRegression)"
   ]
  },
  {
   "cell_type": "code",
   "execution_count": null,
   "metadata": {
    "id": "gOpLDh8JalL5"
   },
   "outputs": [],
   "source": [
    "from sklearn.linear_model import LinearRegression"
   ]
  },
  {
   "cell_type": "code",
   "execution_count": null,
   "metadata": {
    "id": "H7FfbHlIalL6"
   },
   "outputs": [],
   "source": [
    "linearReg = LinearRegression().fit(X_train,y_train)"
   ]
  },
  {
   "cell_type": "code",
   "execution_count": null,
   "metadata": {
    "colab": {
     "base_uri": "https://localhost:8080/"
    },
    "id": "jhD_EnBCalL6",
    "outputId": "45befebc-5431-40c7-c5fa-c430f6c2ca39"
   },
   "outputs": [
    {
     "name": "stdout",
     "output_type": "stream",
     "text": [
      "Linear_reg 훈련 세트 정확도 : 0.716\n",
      "Linear_reg 테스트 세트 정확도 : 0.716\n"
     ]
    }
   ],
   "source": [
    "print(\"Linear_reg 훈련 세트 정확도 : {:.3f}\".format(linearReg.score(X_train,y_train)))\n",
    "print(\"Linear_reg 테스트 세트 정확도 : {:.3f}\".format(linearReg.score(X_test,y_test)))"
   ]
  },
  {
   "cell_type": "code",
   "execution_count": null,
   "metadata": {
    "id": "_O1omq50alL6"
   },
   "outputs": [],
   "source": [
    "y_predict1 = linearReg.predict(X_test) "
   ]
  },
  {
   "cell_type": "code",
   "execution_count": null,
   "metadata": {
    "id": "agJoioIjqa0O"
   },
   "outputs": [],
   "source": [
    "thres = 0.26\n",
    "y_pred = []\n",
    "\n",
    "for i in y_predict1:\n",
    "  if i>thres :\n",
    "    y_pred.append(1)\n",
    "  else :\n",
    "    y_pred.append(0)"
   ]
  },
  {
   "cell_type": "code",
   "execution_count": null,
   "metadata": {
    "colab": {
     "base_uri": "https://localhost:8080/"
    },
    "id": "Tbv3M7k-p6XM",
    "outputId": "29251d42-5124-4e36-ee0d-157c31b42c82"
   },
   "outputs": [
    {
     "name": "stdout",
     "output_type": "stream",
     "text": [
      "0.5524954050615015\n",
      "[[ 4779 30673]\n",
      " [  979 34299]]\n"
     ]
    }
   ],
   "source": [
    "from sklearn.metrics import accuracy_score, precision_score, roc_curve, auc\n",
    "from sklearn.metrics import confusion_matrix\n",
    "\n",
    "print(accuracy_score(y_test, y_pred))\n",
    "print(confusion_matrix(y_test, y_pred))"
   ]
  },
  {
   "cell_type": "code",
   "execution_count": null,
   "metadata": {
    "colab": {
     "base_uri": "https://localhost:8080/",
     "height": 430
    },
    "id": "diA2VOmTzrjF",
    "outputId": "c60640c7-26e4-4cb6-b438-4c9dba613ac6"
   },
   "outputs": [
    {
     "data": {
      "image/png": "[encoded data removed]",
      "text/plain": [
       "<Figure size 576x396 with 2 Axes>"
      ]
     },
     "metadata": {
      "tags": []
     },
     "output_type": "display_data"
    }
   ],
   "source": [
    "lpm_con = confusion_matrix(y_test, y_pred)\n",
    "\n",
    "sb.heatmap(pd.DataFrame(lpm_con), annot=True, cmap='YlGnBu', fmt='g')\n",
    "plt.tight_layout()\n",
    "plt.title(\"Confusion matrix\", y=1.1)\n",
    "plt.ylabel(\"Actual label\")\n",
    "plt.xlabel(\"Predict label\")\n",
    "plt.show()"
   ]
  },
  {
   "cell_type": "markdown",
   "metadata": {
    "id": "t73oJSHValL6"
   },
   "source": [
    "### 3.2 결정 트리(DecisionTree)"
   ]
  },
  {
   "cell_type": "code",
   "execution_count": null,
   "metadata": {
    "id": "I-lMG6clalL7"
   },
   "outputs": [],
   "source": [
    "from sklearn.tree import DecisionTreeClassifier"
   ]
  },
  {
   "cell_type": "code",
   "execution_count": null,
   "metadata": {
    "id": "tqCDmSjWalL7"
   },
   "outputs": [],
   "source": [
    "tree = DecisionTreeClassifier(random_state=0).fit(X_train,y_train)"
   ]
  },
  {
   "cell_type": "code",
   "execution_count": null,
   "metadata": {
    "colab": {
     "base_uri": "https://localhost:8080/"
    },
    "id": "QT2T2yoKalL7",
    "outputId": "f543e88d-e984-4161-b8c6-fa908c9ff6bf"
   },
   "outputs": [
    {
     "name": "stdout",
     "output_type": "stream",
     "text": [
      "Tree 훈련 세트 정확도 : 1.000\n",
      "Tree 테스트 세트 정확도 : 0.555\n"
     ]
    }
   ],
   "source": [
    "print(\"Tree 훈련 세트 정확도 : {:.3f}\".format(tree.score(X_train,y_train)))\n",
    "print(\"Tree 테스트 세트 정확도 : {:.3f}\".format(tree.score(X_test,y_test)))"
   ]
  },
  {
   "cell_type": "code",
   "execution_count": null,
   "metadata": {
    "id": "KNn2P_mGalL7"
   },
   "outputs": [],
   "source": [
    "y_pred_tree = tree.predict(X_test) "
   ]
  },
  {
   "cell_type": "code",
   "execution_count": null,
   "metadata": {
    "colab": {
     "base_uri": "https://localhost:8080/"
    },
    "id": "mHDLTnSW69GU",
    "outputId": "1803df26-8afe-4cf4-aa00-225abc857a6e"
   },
   "outputs": [
    {
     "name": "stdout",
     "output_type": "stream",
     "text": [
      "0.5552382298883076\n"
     ]
    },
    {
     "data": {
      "text/plain": [
       "array([[19749, 15703],\n",
       "       [15755, 19523]])"
      ]
     },
     "execution_count": 29,
     "metadata": {
      "tags": []
     },
     "output_type": "execute_result"
    }
   ],
   "source": [
    "print(accuracy_score(y_test,y_pred_tree))\n",
    "confusion_matrix(y_test,y_pred_tree)"
   ]
  },
  {
   "cell_type": "code",
   "execution_count": null,
   "metadata": {
    "colab": {
     "base_uri": "https://localhost:8080/",
     "height": 430
    },
    "id": "4moQwsln7HAT",
    "outputId": "b812f58a-939d-43e0-8416-b75e9c6b5814"
   },
   "outputs": [
    {
     "data": {
      "image/png": "[encoded data removed]",
      "text/plain": [
       "<Figure size 576x396 with 2 Axes>"
      ]
     },
     "metadata": {
      "tags": []
     },
     "output_type": "display_data"
    }
   ],
   "source": [
    "a = confusion_matrix(y_test, y_pred_tree)\n",
    "\n",
    "sb.heatmap(a, annot=True, cmap='YlGnBu', fmt='g')\n",
    "plt.tight_layout()\n",
    "plt.title(\"Confusion matrix\", y=1.1)\n",
    "plt.ylabel(\"Actual label\")\n",
    "plt.xlabel(\"Predict label\")\n",
    "plt.show()"
   ]
  },
  {
   "cell_type": "code",
   "execution_count": null,
   "metadata": {
    "colab": {
     "base_uri": "https://localhost:8080/",
     "height": 364
    },
    "id": "qXuzwmjcyN_7",
    "outputId": "3bf7e2b0-6810-4f33-e632-c6f9707c1a78"
   },
   "outputs": [
    {
     "name": "stdout",
     "output_type": "stream",
     "text": [
      "AUC : 0.555233729599355\n"
     ]
    },
    {
     "data": {
      "image/png": "[encoded data removed]",
      "text/plain": [
       "<Figure size 576x396 with 1 Axes>"
      ]
     },
     "metadata": {
      "tags": []
     },
     "output_type": "display_data"
    }
   ],
   "source": [
    "## tree AUC, ROC Curve\n",
    "fpr_tree, tpr_tree, thresholds_tree = roc_curve(y_test,y_pred_tree)\n",
    "\n",
    "# print ROC curve\n",
    "plt.plot(fpr_tree,tpr_tree)\n",
    "\n",
    "# print AUC\n",
    "auc_tree = np.trapz(tpr_tree,fpr_tree)\n",
    "print(\"AUC :\",auc_tree)"
   ]
  },
  {
   "cell_type": "code",
   "execution_count": null,
   "metadata": {
    "colab": {
     "base_uri": "https://localhost:8080/",
     "height": 376
    },
    "id": "KQHhZXQJjr7t",
    "outputId": "ac456ada-2975-46cc-f14c-9ffc467d7981"
   },
   "outputs": [
    {
     "data": {
      "image/png": "[encoded data removed]",
      "text/plain": [
       "<Figure size 576x396 with 1 Axes>"
      ]
     },
     "metadata": {
      "tags": []
     },
     "output_type": "display_data"
    }
   ],
   "source": [
    "#pr curve\n",
    "from sklearn.metrics import precision_recall_curve\n",
    "def plot_pr_curve(test_y, model_probs ,clf_name):\n",
    "    precision, recall, _ = precision_recall_curve(test_y, model_probs)\n",
    "    plt.plot(recall, precision, marker='.', label=clf_name)\n",
    "    # axis labels\n",
    "    plt.xlabel('Recall')\n",
    "    plt.ylabel('Precision')\n",
    "    # show the legend\n",
    "    plt.legend()\n",
    "    plt.ylim(0,1)\n",
    "\n",
    "plot_pr_curve(y_test, y_pred_tree,tree)\n",
    "plt.title(\"DecisionTree PR curve\")\n",
    "plt.show()"
   ]
  },
  {
   "cell_type": "markdown",
   "metadata": {
    "id": "rRW_2ozCalL7"
   },
   "source": [
    "### 3.3 랜덤 포레스트(RandomForest)"
   ]
  },
  {
   "cell_type": "code",
   "execution_count": null,
   "metadata": {
    "id": "w1TzXoZqalL8"
   },
   "outputs": [],
   "source": [
    "#모듈 임포트\n",
    "from sklearn.metrics import accuracy_score, precision_score, roc_curve, auc, recall_score, f1_score\n",
    "from sklearn.model_selection import cross_val_score\n",
    "from sklearn.model_selection import GridSearchCV\n",
    "from sklearn.ensemble import RandomForestClassifier\n",
    "from sklearn.tree import export_graphviz\n",
    "\n",
    "from imblearn.under_sampling import *\n",
    "from yellowbrick.classifier import ROCAUC"
   ]
  },
  {
   "cell_type": "code",
   "execution_count": null,
   "metadata": {
    "id": "pdsZaVrWXNhE"
   },
   "outputs": [],
   "source": [
    "#pip install imblearn"
   ]
  },
  {
   "cell_type": "code",
   "execution_count": null,
   "metadata": {
    "id": "cd2NqJqrXNhE"
   },
   "outputs": [],
   "source": [
    "#import sys\n",
    "#!conda install pip     # pip 미설치일 경우\n",
    "#!{sys.executable} -m pip install yellowbrick"
   ]
  },
  {
   "cell_type": "code",
   "execution_count": null,
   "metadata": {
    "colab": {
     "base_uri": "https://localhost:8080/"
    },
    "id": "dgxwXe5GalL8",
    "outputId": "27a58f0a-32ac-421a-fa37-0cdec223d6e5"
   },
   "outputs": [
    {
     "data": {
      "text/plain": [
       "GridSearchCV(cv=3, error_score=nan,\n",
       "             estimator=RandomForestClassifier(bootstrap=True, ccp_alpha=0.0,\n",
       "                                              class_weight=None,\n",
       "                                              criterion='gini', max_depth=None,\n",
       "                                              max_features='auto',\n",
       "                                              max_leaf_nodes=None,\n",
       "                                              max_samples=None,\n",
       "                                              min_impurity_decrease=0.0,\n",
       "                                              min_impurity_split=None,\n",
       "                                              min_samples_leaf=1,\n",
       "                                              min_samples_split=2,\n",
       "                                              min_weight_fraction_leaf=0.0,\n",
       "                                              n_estimators=100, n_jobs=-1,\n",
       "                                              oob_score=False, random_state=13,\n",
       "                                              verbose=0, warm_start=False),\n",
       "             iid='deprecated', n_jobs=-1,\n",
       "             param_grid={'max_depth': [4, 6, 8], 'max_features': [7, 14],\n",
       "                         'min_impurity_split': [0.1, 0.2, 0.3, 0.4],\n",
       "                         'n_estimators': [10]},\n",
       "             pre_dispatch='2*n_jobs', refit=True, return_train_score=False,\n",
       "             scoring='accuracy', verbose=0)"
      ]
     },
     "execution_count": 37,
     "metadata": {
      "tags": []
     },
     "output_type": "execute_result"
    }
   ],
   "source": [
    "#하이퍼파라미터 튜닝\n",
    "#Rule of Thumb에 의해\n",
    "#max_features : 분류기의 종류를 다양화하기 위해 적절히 적은 수가 필요하다. 데이터 셋의 특성 수에 제곱근을 취한 값과 log2를 취한 값.\n",
    "#max_depth : 과적합을 피하기 위해 일정 수준의 불순도를 달성하게 해주는 트리 깊이.\n",
    "#min_impurity_split : Leaf의 Impurity가 너무 작으면 과적합 문제가 있으므로 leaf의 일정 수준 불순도를 지정.\n",
    "#특정 validation set에 대한 과적합을 막기 위해 cv=3 시행.\n",
    "#impurity limit에 적은 값을 넣어도 depth가 작으면 최종 leaf의 불순도는 전반적으로 높다. 반대 역시 성립.\n",
    "#랜덤포레스트의 보팅 방식은 샘플들에 대한 평균이므로 이를 threshold와 비교하기 위해서는 샘플 간 도출된 값이 비교적 균일해야한다. \n",
    "\n",
    "params = {'n_estimators' : [10],\n",
    "           'max_depth' : [4,6,8],\n",
    "           'min_impurity_split' : [0.1, 0.2, 0.3, 0.4],\n",
    "           'max_features' : [7, 14]}\n",
    "\n",
    "rf_clf = RandomForestClassifier(random_state = 13, n_jobs = -1)\n",
    "grid_cv = GridSearchCV(rf_clf, param_grid = params, cv=3, scoring='accuracy', n_jobs=-1)\n",
    "grid_cv.fit(X_train, y_train)"
   ]
  },
  {
   "cell_type": "code",
   "execution_count": null,
   "metadata": {
    "colab": {
     "base_uri": "https://localhost:8080/"
    },
    "id": "XT0eIiLVxnYq",
    "outputId": "4f7c2b76-66b3-4a5b-afb2-9ee75b6eb66f"
   },
   "outputs": [
    {
     "name": "stdout",
     "output_type": "stream",
     "text": [
      "{'max_depth': 8, 'max_features': 14, 'min_impurity_split': 0.2, 'n_estimators': 10}\n",
      "0.6312853901130362\n"
     ]
    }
   ],
   "source": [
    "print(grid_cv.best_params_)\n",
    "print(grid_cv.best_score_)"
   ]
  },
  {
   "cell_type": "code",
   "execution_count": null,
   "metadata": {
    "id": "es9OLo8qalL8"
   },
   "outputs": [],
   "source": [
    "#모델링\n",
    "#파라미터 튜닝을 통해 나온 값을 대입하여 트레이닝\n",
    "forest = RandomForestClassifier(n_estimators=10,max_depth=8,min_impurity_split=0.3,max_features=14,random_state=1217)\n",
    "trainings = forest.fit(X_train, y_train)\n"
   ]
  },
  {
   "cell_type": "code",
   "execution_count": null,
   "metadata": {
    "colab": {
     "base_uri": "https://localhost:8080/"
    },
    "id": "fK9NRUaTxsya",
    "outputId": "744c06d9-7390-4c45-c2a6-e81130a340ef"
   },
   "outputs": [
    {
     "name": "stdout",
     "output_type": "stream",
     "text": [
      "0.6276544606249116\n",
      "0.6130753667172484\n",
      "[[20153 15299]\n",
      " [11037 24241]]\n"
     ]
    }
   ],
   "source": [
    "#test set의 예측부도확률과 정확도,정밀도,매트릭스 도출\n",
    "y_pred_rf = trainings.predict(X_test)\n",
    "y_pred_lasso = cut_off(y_pred_rf, 0.26)\n",
    "print(accuracy_score(y_test, y_pred_rf))\n",
    "print(precision_score(y_test, y_pred_rf))\n",
    "print(confusion_matrix(y_test, y_pred_rf))\n"
   ]
  },
  {
   "cell_type": "code",
   "execution_count": null,
   "metadata": {
    "colab": {
     "base_uri": "https://localhost:8080/",
     "height": 453
    },
    "id": "P6ypNcuvalL8",
    "outputId": "443be0e6-f53d-4994-ee5e-3ae89b90e9d0"
   },
   "outputs": [
    {
     "data": {
      "text/plain": [
       "(array([  253.,  1712.,  4112.,  7093., 10096., 14053., 17449., 12438.,\n",
       "         3381.,   143.]),\n",
       " array([0.20583121, 0.2581964 , 0.31056158, 0.36292676, 0.41529195,\n",
       "        0.46765713, 0.52002231, 0.5723875 , 0.62475268, 0.67711786,\n",
       "        0.72948305]),\n",
       " <a list of 10 Patch objects>)"
      ]
     },
     "execution_count": 44,
     "metadata": {
      "tags": []
     },
     "output_type": "execute_result"
    },
    {
     "data": {
      "image/png": "[encoded data removed]",
      "text/plain": [
       "<Figure size 576x396 with 1 Axes>"
      ]
     },
     "metadata": {
      "tags": []
     },
     "output_type": "display_data"
    }
   ],
   "source": [
    "#예측부도확률은 10개 샘플 트리에서 도출된 값의 평균이다.\n",
    "pred_prob_list = list(trainings.predict_proba(X_test))\n",
    "pred_prob = []\n",
    "\n",
    "for i in range(len(pred_prob_list)):\n",
    "  prob_ = pred_prob_list[i][1]\n",
    "  pred_prob.append(prob_)\n",
    "\n",
    "#predict_prob의 분포 : 가운데에 있는 항목일수록 불순도가 높다. \n",
    "plt.hist(pred_prob)"
   ]
  },
  {
   "cell_type": "code",
   "execution_count": null,
   "metadata": {
    "colab": {
     "base_uri": "https://localhost:8080/"
    },
    "id": "kEBx7RiZx00A",
    "outputId": "eeb9a5cd-644e-4be4-b797-ab4012501c63"
   },
   "outputs": [
    {
     "name": "stdout",
     "output_type": "stream",
     "text": [
      "0.5019652198501343\n",
      "0.5003690665455371\n",
      "[[  254 35198]\n",
      " [   28 35250]]\n"
     ]
    }
   ],
   "source": [
    "#threshold를 바꾸었을 때의 정확도,정밀도,매트릭스 도출\n",
    "y_pred_thres = []\n",
    "thres = 0.26\n",
    "\n",
    "for i in pred_prob :\n",
    "  if i <= thres :\n",
    "    y_pred_thres.append(0)\n",
    "  else :\n",
    "    y_pred_thres.append(1)\n",
    "\n",
    "print(accuracy_score(y_test, y_pred_thres))\n",
    "print(precision_score(y_test, y_pred_thres))\n",
    "print(confusion_matrix(y_test, y_pred_thres))"
   ]
  },
  {
   "cell_type": "code",
   "execution_count": null,
   "metadata": {
    "colab": {
     "base_uri": "https://localhost:8080/",
     "height": 428
    },
    "id": "JxqQIHVV090e",
    "outputId": "56f1f6fe-e8f9-4ff7-cc38-d2616c2806c5"
   },
   "outputs": [
    {
     "data": {
      "image/png": "[encoded data removed]",
      "text/plain": [
       "<Figure size 576x396 with 2 Axes>"
      ]
     },
     "metadata": {
      "tags": []
     },
     "output_type": "display_data"
    }
   ],
   "source": [
    "a = confusion_matrix(y_test, y_pred_thres)\n",
    "\n",
    "sb.heatmap(a, annot=True, cmap='YlGnBu', fmt='g')\n",
    "plt.tight_layout()\n",
    "plt.title(\"Confusion matrix\", y=1.1)\n",
    "plt.ylabel(\"Actual label\")\n",
    "plt.xlabel(\"Predict label\")\n",
    "plt.show()"
   ]
  },
  {
   "cell_type": "code",
   "execution_count": null,
   "metadata": {
    "id": "jvYslnngx2Mw"
   },
   "outputs": [],
   "source": [
    "#각 조건에 맞는 threshold 찾기\n",
    "acc_score=[]\n",
    "pre_score=[]\n",
    "rec_score=[]\n",
    "\n",
    "for t in np.linspace(0, 1, num=100) :\n",
    "  y_pred_thres = []\n",
    "  thres = t\n",
    "\n",
    "  for i in pred_prob :\n",
    "    if i <= thres :\n",
    "      y_pred_thres.append(0)\n",
    "    else :\n",
    "      y_pred_thres.append(1)\n",
    "\n",
    "  acc_score.append(accuracy_score(y_test, y_pred_thres))\n",
    "  pre_score.append(precision_score(y_test, y_pred_thres))\n",
    "  #rec_score.append(recall_score(y_test, y_pred_thres))"
   ]
  },
  {
   "cell_type": "code",
   "execution_count": null,
   "metadata": {
    "colab": {
     "base_uri": "https://localhost:8080/"
    },
    "id": "buhFmE3aho8U",
    "outputId": "ec0818e5-085d-49af-e9f9-2dd7b9f08255"
   },
   "outputs": [
    {
     "name": "stdout",
     "output_type": "stream",
     "text": [
      "50\n"
     ]
    }
   ],
   "source": [
    "best_thres = 0.5*(np.array(pre_score) + np.array(acc_score))\n",
    "best_thres = list(best_thres)\n",
    "\n",
    "#print(best_thres.index(max(best_thres)))\n",
    "print(acc_score.index(max(acc_score)))\n",
    "#print(pre_score.index(max(pre_score)))\n",
    "#print(rec_score.index(max(rec_score)))"
   ]
  },
  {
   "cell_type": "code",
   "execution_count": null,
   "metadata": {
    "colab": {
     "base_uri": "https://localhost:8080/",
     "height": 436
    },
    "id": "3ca0xj1Gh1mr",
    "outputId": "fe13edd3-37b5-4723-a8dd-ededcb802d2d"
   },
   "outputs": [
    {
     "data": {
      "text/plain": [
       "(array([35452.,     0.,     0.,     0.,     0.,     0.,     0.,     0.,\n",
       "            0., 35278.]),\n",
       " array([0. , 0.1, 0.2, 0.3, 0.4, 0.5, 0.6, 0.7, 0.8, 0.9, 1. ],\n",
       "       dtype=float32),\n",
       " <a list of 10 Patch objects>)"
      ]
     },
     "execution_count": 49,
     "metadata": {
      "tags": []
     },
     "output_type": "execute_result"
    },
    {
     "data": {
      "image/png": "[encoded data removed]",
      "text/plain": [
       "<Figure size 576x396 with 1 Axes>"
      ]
     },
     "metadata": {
      "tags": []
     },
     "output_type": "display_data"
    }
   ],
   "source": [
    "#좌측 기둥의 상단 : false negative\n",
    "#우측 기둥의 상단 : true negative\n",
    "plt.hist(y_pred_thres,alpha=.5)\n",
    "plt.hist(y_test,alpha=.5)"
   ]
  },
  {
   "cell_type": "code",
   "execution_count": null,
   "metadata": {
    "colab": {
     "base_uri": "https://localhost:8080/",
     "height": 364
    },
    "id": "MppfWIx5iIJg",
    "outputId": "b5006a42-8ddd-41fc-8422-bef415949c20"
   },
   "outputs": [
    {
     "data": {
      "text/plain": [
       "0.6342509136923066"
      ]
     },
     "execution_count": 50,
     "metadata": {
      "tags": []
     },
     "output_type": "execute_result"
    },
    {
     "data": {
      "image/png": "[encoded data removed]",
      "text/plain": [
       "<Figure size 576x396 with 1 Axes>"
      ]
     },
     "metadata": {
      "tags": []
     },
     "output_type": "display_data"
    }
   ],
   "source": [
    "#roc curve\n",
    "visualizer = ROCAUC(forest, classes=[0,1])\n",
    "visualizer.fit(X_train,y_train)\n",
    "visualizer.score(X_train,y_train)"
   ]
  },
  {
   "cell_type": "code",
   "execution_count": null,
   "metadata": {
    "colab": {
     "base_uri": "https://localhost:8080/",
     "height": 364
    },
    "id": "m-KGqCvWZmMj",
    "outputId": "ff6a88c3-6431-4f99-c3d3-7ccb75846a1b"
   },
   "outputs": [
    {
     "name": "stdout",
     "output_type": "stream",
     "text": [
      "AUC : 0.6278004446901939\n"
     ]
    },
    {
     "data": {
      "image/png": "[encoded data removed]",
      "text/plain": [
       "<Figure size 576x396 with 1 Axes>"
      ]
     },
     "metadata": {
      "tags": []
     },
     "output_type": "display_data"
    }
   ],
   "source": [
    "fpr_rf,tpr_rf, thresholds_rf = roc_curve(y_test,y_pred_rf)\n",
    "# print ROC curve\n",
    "plt.plot(fpr_rf,tpr_rf)\n",
    "\n",
    "# print AUC \n",
    "auc_rf = np.trapz(tpr_rf, fpr_rf)\n",
    "print(\"AUC :\",auc_rf)"
   ]
  },
  {
   "cell_type": "markdown",
   "metadata": {
    "id": "-gKFEkYbalL8"
   },
   "source": [
    "### 3.4 로지스틱 회귀(Logistic Regression)"
   ]
  },
  {
   "cell_type": "code",
   "execution_count": null,
   "metadata": {
    "id": "mQqPFohnalL8"
   },
   "outputs": [],
   "source": [
    "from sklearn.linear_model import LogisticRegression"
   ]
  },
  {
   "cell_type": "code",
   "execution_count": null,
   "metadata": {
    "id": "6C4kCIv0VZGr"
   },
   "outputs": [],
   "source": [
    "logit = LogisticRegression(fit_intercept=False)\n",
    "result_logit = logit.fit(X_train,y_train)\n",
    "result = DataFrame(logit.predict_proba(X_test)[:,1], columns=['logit_pred_prob'])"
   ]
  },
  {
   "cell_type": "code",
   "execution_count": null,
   "metadata": {
    "id": "ef56hmBzVfEW"
   },
   "outputs": [],
   "source": [
    "#threshold 재설정 전의 값\n",
    "fpr_logit,tpr_logit,thresholds_logit = roc_curve(y_test, result.logit_pred_prob)"
   ]
  },
  {
   "cell_type": "code",
   "execution_count": null,
   "metadata": {
    "colab": {
     "base_uri": "https://localhost:8080/"
    },
    "id": "FzX9O0v_eNOw",
    "outputId": "25a72da8-bd8b-4c85-f9f1-e1875aeca5dc"
   },
   "outputs": [
    {
     "data": {
      "text/plain": [
       "0.6875704423241769"
      ]
     },
     "execution_count": 74,
     "metadata": {
      "tags": []
     },
     "output_type": "execute_result"
    }
   ],
   "source": [
    "#threshold 설정 전 roc값\n",
    "roc_auc = auc(fpr_logit, tpr_logit)\n",
    "roc_auc "
   ]
  },
  {
   "cell_type": "code",
   "execution_count": null,
   "metadata": {
    "id": "ddWxmTVoeN-x"
   },
   "outputs": [],
   "source": [
    "#threshold 재설정\n",
    "result['logit_binary']=np.where(result.logit_pred_prob>=0.26,1,0)"
   ]
  },
  {
   "cell_type": "code",
   "execution_count": null,
   "metadata": {
    "id": "b6TWx1k2qxLM"
   },
   "outputs": [],
   "source": [
    "#threshold 재설정 후의 값\n",
    "fpr_logit2,tpr_logit2,thresholds_logit2 = roc_curve(y_test, result.logit_binary)"
   ]
  },
  {
   "cell_type": "code",
   "execution_count": null,
   "metadata": {
    "colab": {
     "base_uri": "https://localhost:8080/"
    },
    "id": "or23H0t5eOcf",
    "outputId": "9d3dafc4-f898-4108-fe48-285c419509ac"
   },
   "outputs": [
    {
     "data": {
      "text/plain": [
       "array([[ 4745, 30707],\n",
       "       [ 1062, 34216]])"
      ]
     },
     "execution_count": 76,
     "metadata": {
      "tags": []
     },
     "output_type": "execute_result"
    }
   ],
   "source": [
    "logit_con = confusion_matrix(y_test, result.logit_binary)\n",
    "logit_con"
   ]
  },
  {
   "cell_type": "code",
   "execution_count": null,
   "metadata": {
    "colab": {
     "base_uri": "https://localhost:8080/"
    },
    "id": "N1eWmfs1qMgr",
    "outputId": "9620f4e5-e2ec-4b07-92d8-98d39a0461a7"
   },
   "outputs": [
    {
     "data": {
      "text/plain": [
       "(4745, 30707, 1062, 34216)"
      ]
     },
     "execution_count": 82,
     "metadata": {
      "tags": []
     },
     "output_type": "execute_result"
    }
   ],
   "source": [
    "tn, fp, fn, tp = confusion_matrix(y_test, result.logit_binary).ravel()\n",
    "(tn, fp, fn, tp)"
   ]
  },
  {
   "cell_type": "code",
   "execution_count": null,
   "metadata": {
    "colab": {
     "base_uri": "https://localhost:8080/"
    },
    "id": "cKuRitwnqNco",
    "outputId": "214e4aff-8d6e-4817-8bf5-224eb42d81ed"
   },
   "outputs": [
    {
     "data": {
      "text/plain": [
       "0.9698962526220307"
      ]
     },
     "execution_count": 83,
     "metadata": {
      "tags": []
     },
     "output_type": "execute_result"
    }
   ],
   "source": [
    "tp/(tp+fn) # tpr = sensitivity"
   ]
  },
  {
   "cell_type": "code",
   "execution_count": null,
   "metadata": {
    "colab": {
     "base_uri": "https://localhost:8080/"
    },
    "id": "HWjEFSBLqNoy",
    "outputId": "b8a8351e-7509-4f3d-cebf-94273c09a5a4"
   },
   "outputs": [
    {
     "data": {
      "text/plain": [
       "0.8661570574297642"
      ]
     },
     "execution_count": 84,
     "metadata": {
      "tags": []
     },
     "output_type": "execute_result"
    }
   ],
   "source": [
    "fp/(tn+fp) # fpr = 1-specificity"
   ]
  },
  {
   "cell_type": "code",
   "execution_count": null,
   "metadata": {
    "colab": {
     "base_uri": "https://localhost:8080/"
    },
    "id": "bHJp764_qNsC",
    "outputId": "4b6785d7-e05e-4560-f67b-0d3efe100c02"
   },
   "outputs": [
    {
     "data": {
      "text/plain": [
       "0.5508412272020359"
      ]
     },
     "execution_count": 85,
     "metadata": {
      "tags": []
     },
     "output_type": "execute_result"
    }
   ],
   "source": [
    "(tn+tp)/(tn+fp+fn+tp) # accuracy"
   ]
  },
  {
   "cell_type": "code",
   "execution_count": null,
   "metadata": {
    "colab": {
     "base_uri": "https://localhost:8080/",
     "height": 430
    },
    "id": "Ah1Z-Fpvfax7",
    "outputId": "15bbd19b-2f74-467c-baf9-09ccecc3dbac"
   },
   "outputs": [
    {
     "data": {
      "image/png": "[encoded data removed]",
      "text/plain": [
       "<Figure size 576x396 with 2 Axes>"
      ]
     },
     "metadata": {
      "tags": []
     },
     "output_type": "display_data"
    }
   ],
   "source": [
    "#confusion matrix 시각화\n",
    "sb.heatmap(pd.DataFrame(logit_con), annot=True, cmap='YlGnBu', fmt='g')\n",
    "plt.tight_layout()\n",
    "plt.title(\"Confusion matrix\", y=1.1)\n",
    "plt.ylabel(\"Actual label\")\n",
    "plt.xlabel(\"Predict label\")\n",
    "plt.show()"
   ]
  },
  {
   "cell_type": "code",
   "execution_count": null,
   "metadata": {
    "colab": {
     "base_uri": "https://localhost:8080/",
     "height": 364
    },
    "id": "IoYUJq7VUO7-",
    "outputId": "6857f154-36d4-41c2-dd1c-ac13c312e1fe"
   },
   "outputs": [
    {
     "name": "stdout",
     "output_type": "stream",
     "text": [
      "AUC : 0.5\n"
     ]
    },
    {
     "data": {
      "image/png": "[encoded data removed]",
      "text/plain": [
       "<Figure size 576x396 with 1 Axes>"
      ]
     },
     "metadata": {
      "tags": []
     },
     "output_type": "display_data"
    }
   ],
   "source": [
    "# print ROC curve\n",
    "plt.plot(fpr_logit2,fpr_logit2)\n",
    "\n",
    "# print AUC\n",
    "auc_logit2 = np.trapz(fpr_logit2,fpr_logit2)\n",
    "print(\"AUC :\",auc_logit2)"
   ]
  },
  {
   "cell_type": "code",
   "execution_count": null,
   "metadata": {
    "colab": {
     "base_uri": "https://localhost:8080/",
     "height": 376
    },
    "id": "-WxQggulpMju",
    "outputId": "90d2ba36-2e37-4e74-d23a-fbbf05466f5d"
   },
   "outputs": [
    {
     "data": {
      "image/png": "[encoded data removed]",
      "text/plain": [
       "<Figure size 576x396 with 1 Axes>"
      ]
     },
     "metadata": {
      "tags": []
     },
     "output_type": "display_data"
    }
   ],
   "source": [
    "#pr curve\n",
    "from sklearn.metrics import precision_recall_curve\n",
    "def plot_pr_curve(test_y, model_probs ,clf_name):\n",
    "    precision, recall, _ = precision_recall_curve(test_y, model_probs)\n",
    "    plt.plot(recall, precision, marker='.', label=clf_name)\n",
    "    # axis labels\n",
    "    plt.xlabel('Recall')\n",
    "    plt.ylabel('Precision')\n",
    "    # show the legend\n",
    "    plt.legend()\n",
    "    plt.ylim(0,1)\n",
    "\n",
    "plot_pr_curve(y_test, result.logit_pred_prob, logit)\n",
    "plt.title(\"Logistic PR curve\")\n",
    "plt.show()"
   ]
  },
  {
   "cell_type": "markdown",
   "metadata": {
    "id": "qqmyqBk_m4KU"
   },
   "source": [
    "### 3.5 라소 회귀(Lasso Regression)"
   ]
  },
  {
   "cell_type": "code",
   "execution_count": null,
   "metadata": {
    "id": "0W4Anvupp0Xs"
   },
   "outputs": [],
   "source": [
    "from sklearn.linear_model import Ridge, RidgeCV, Lasso, LassoCV\n",
    "from sklearn.metrics import accuracy_score, precision_score, auc, recall_score, f1_score\n",
    "from sklearn.metrics import mean_squared_error\n",
    "from sklearn.metrics import confusion_matrix\n",
    "from sklearn.metrics import roc_auc_score, roc_curve\n",
    "from yellowbrick.classifier import ROCAUC"
   ]
  },
  {
   "cell_type": "code",
   "execution_count": null,
   "metadata": {
    "id": "plHOxAyd9cXr"
   },
   "outputs": [],
   "source": [
    "##### 이 두 함수는 로지스틱 회귀모델의 게시글 코드에 존재한다.\n",
    "##### Lasso와 Ridge의 예측 정확도를 측정하는데 사용할 것이다.\n",
    "\n",
    "# 0/1 cut-off(임계값) 함수\n",
    "\n",
    "def cut_off(y, threshold):\n",
    "\tY = y.copy()\n",
    "\tY[Y>threshold] = 1\n",
    "\tY[Y<=threshold] = 0\n",
    "\treturn (Y.astype(int))\n",
    "    \n",
    "# 정확도 acc 함수 \n",
    "\n",
    "def acc(cfmat):\n",
    "\tacc = (cfmat[0,0] + cfmat[1,1]) / np.sum(cfmat)\n",
    "\treturn acc"
   ]
  },
  {
   "cell_type": "code",
   "execution_count": null,
   "metadata": {
    "colab": {
     "base_uri": "https://localhost:8080/"
    },
    "id": "a4SbKSOVFyua",
    "outputId": "f6cb424a-b84a-434e-9682-e16685e9c9ae"
   },
   "outputs": [
    {
     "data": {
      "text/plain": [
       "0.004431981156898047"
      ]
     },
     "execution_count": 54,
     "metadata": {
      "tags": []
     },
     "output_type": "execute_result"
    }
   ],
   "source": [
    "lasso_cv = LassoCV().fit(X_train, y_train)   #Cross Validation을 통해서 lambda값을 설정한다\n",
    "lasso_cv.alpha_"
   ]
  },
  {
   "cell_type": "code",
   "execution_count": null,
   "metadata": {
    "id": "l5uafcgw8kdS"
   },
   "outputs": [],
   "source": [
    "lasso = Lasso(alpha = lasso_cv.alpha_ ).fit(X_train,y_train) "
   ]
  },
  {
   "cell_type": "code",
   "execution_count": null,
   "metadata": {
    "colab": {
     "base_uri": "https://localhost:8080/"
    },
    "id": "FQKx11oq8kk_",
    "outputId": "10fb1850-7140-4b4f-958d-2384ec22f2f4"
   },
   "outputs": [
    {
     "data": {
      "text/plain": [
       "array([ 1.87445493e-02,  1.46360042e-01, -1.56329805e-03,  4.27569610e-02,\n",
       "        0.00000000e+00, -3.79281527e-02,  1.28075064e-02,  0.00000000e+00,\n",
       "       -4.67384897e-03,  0.00000000e+00,  0.00000000e+00, -0.00000000e+00,\n",
       "        3.16910243e-07, -2.14422749e-02,  0.00000000e+00,  1.75865746e-06,\n",
       "        0.00000000e+00,  0.00000000e+00, -0.00000000e+00, -0.00000000e+00,\n",
       "        0.00000000e+00, -0.00000000e+00, -0.00000000e+00, -0.00000000e+00,\n",
       "       -0.00000000e+00,  0.00000000e+00,  0.00000000e+00, -0.00000000e+00,\n",
       "        2.18555791e-02, -0.00000000e+00, -1.74131661e-02, -0.00000000e+00,\n",
       "       -0.00000000e+00,  0.00000000e+00,  1.08703175e-02, -1.49406621e-02,\n",
       "        0.00000000e+00,  0.00000000e+00, -0.00000000e+00, -0.00000000e+00,\n",
       "        0.00000000e+00,  0.00000000e+00,  0.00000000e+00, -0.00000000e+00,\n",
       "       -0.00000000e+00,  0.00000000e+00,  0.00000000e+00, -0.00000000e+00,\n",
       "       -0.00000000e+00,  0.00000000e+00, -0.00000000e+00, -0.00000000e+00,\n",
       "       -0.00000000e+00,  0.00000000e+00,  0.00000000e+00,  0.00000000e+00,\n",
       "        0.00000000e+00, -0.00000000e+00, -0.00000000e+00, -0.00000000e+00,\n",
       "       -0.00000000e+00,  0.00000000e+00, -0.00000000e+00, -0.00000000e+00,\n",
       "        0.00000000e+00,  0.00000000e+00, -0.00000000e+00,  0.00000000e+00,\n",
       "       -0.00000000e+00,  0.00000000e+00,  0.00000000e+00,  0.00000000e+00,\n",
       "        0.00000000e+00, -0.00000000e+00, -0.00000000e+00,  0.00000000e+00,\n",
       "        0.00000000e+00,  0.00000000e+00, -0.00000000e+00,  0.00000000e+00,\n",
       "       -0.00000000e+00,  0.00000000e+00, -0.00000000e+00,  0.00000000e+00,\n",
       "       -0.00000000e+00,  0.00000000e+00,  0.00000000e+00, -0.00000000e+00,\n",
       "        0.00000000e+00, -0.00000000e+00,  0.00000000e+00, -0.00000000e+00,\n",
       "       -0.00000000e+00,  0.00000000e+00,  0.00000000e+00, -0.00000000e+00,\n",
       "       -0.00000000e+00,  0.00000000e+00, -0.00000000e+00, -0.00000000e+00,\n",
       "       -0.00000000e+00, -0.00000000e+00, -0.00000000e+00, -0.00000000e+00,\n",
       "        0.00000000e+00,  0.00000000e+00,  0.00000000e+00,  0.00000000e+00,\n",
       "       -0.00000000e+00, -0.00000000e+00, -0.00000000e+00, -0.00000000e+00,\n",
       "       -0.00000000e+00,  0.00000000e+00, -0.00000000e+00, -0.00000000e+00,\n",
       "        0.00000000e+00,  0.00000000e+00,  0.00000000e+00,  0.00000000e+00,\n",
       "        0.00000000e+00, -0.00000000e+00,  0.00000000e+00,  0.00000000e+00,\n",
       "        0.00000000e+00,  0.00000000e+00, -0.00000000e+00,  0.00000000e+00,\n",
       "       -0.00000000e+00, -0.00000000e+00,  0.00000000e+00,  0.00000000e+00,\n",
       "        0.00000000e+00,  0.00000000e+00,  0.00000000e+00,  0.00000000e+00,\n",
       "        0.00000000e+00, -0.00000000e+00,  0.00000000e+00,  0.00000000e+00,\n",
       "        0.00000000e+00,  0.00000000e+00,  0.00000000e+00,  0.00000000e+00,\n",
       "        0.00000000e+00, -0.00000000e+00, -0.00000000e+00, -0.00000000e+00,\n",
       "       -0.00000000e+00,  2.37944859e-04,  0.00000000e+00,  0.00000000e+00,\n",
       "        0.00000000e+00,  0.00000000e+00,  0.00000000e+00, -0.00000000e+00,\n",
       "       -0.00000000e+00, -0.00000000e+00, -1.38878448e-02, -0.00000000e+00,\n",
       "        0.00000000e+00,  0.00000000e+00, -0.00000000e+00,  0.00000000e+00,\n",
       "       -0.00000000e+00, -0.00000000e+00, -0.00000000e+00, -0.00000000e+00,\n",
       "       -0.00000000e+00, -0.00000000e+00, -8.08971377e-05,  0.00000000e+00,\n",
       "        0.00000000e+00,  0.00000000e+00, -0.00000000e+00,  0.00000000e+00,\n",
       "        0.00000000e+00,  0.00000000e+00, -0.00000000e+00, -0.00000000e+00,\n",
       "        0.00000000e+00,  0.00000000e+00,  0.00000000e+00, -0.00000000e+00,\n",
       "       -0.00000000e+00, -0.00000000e+00, -0.00000000e+00, -0.00000000e+00,\n",
       "       -0.00000000e+00, -0.00000000e+00, -0.00000000e+00])"
      ]
     },
     "execution_count": 56,
     "metadata": {
      "tags": []
     },
     "output_type": "execute_result"
    }
   ],
   "source": [
    "# 회귀계수 출력 , 알파값 커질수록 회귀계수는 0에 수렴\n",
    "lasso.coef_ "
   ]
  },
  {
   "cell_type": "code",
   "execution_count": null,
   "metadata": {
    "colab": {
     "base_uri": "https://localhost:8080/"
    },
    "id": "KqHTbIfO8koj",
    "outputId": "8a407aa4-329b-48df-f688-ac890b52168a"
   },
   "outputs": [
    {
     "name": "stdout",
     "output_type": "stream",
     "text": [
      "0.5374664216032801\n"
     ]
    }
   ],
   "source": [
    "y_pred_lasso = lasso.predict(X_test)\n",
    "y_pred_lasso = cut_off(y_pred_lasso, 0.26)\n",
    "cfmat = confusion_matrix(y_test,y_pred_lasso)\n",
    "print(acc(cfmat))"
   ]
  },
  {
   "cell_type": "code",
   "execution_count": null,
   "metadata": {
    "colab": {
     "base_uri": "https://localhost:8080/"
    },
    "id": "ssfKziOyHM8s",
    "outputId": "3a6e5f51-1208-467e-db85-aadbeb88b160"
   },
   "outputs": [
    {
     "name": "stdout",
     "output_type": "stream",
     "text": [
      "0.5374664216032801\n",
      "0.5192097255325209\n",
      "[[ 3378 32074]\n",
      " [  641 34637]]\n"
     ]
    }
   ],
   "source": [
    "print(accuracy_score(y_test, y_pred_lasso))\n",
    "print(precision_score(y_test, y_pred_lasso))\n",
    "print(confusion_matrix(y_test, y_pred_lasso))"
   ]
  },
  {
   "cell_type": "code",
   "execution_count": null,
   "metadata": {
    "colab": {
     "base_uri": "https://localhost:8080/",
     "height": 430
    },
    "id": "wmQF-yIdHRr2",
    "outputId": "285e642b-09cc-476c-ce6b-0d9bedf07b79"
   },
   "outputs": [
    {
     "data": {
      "image/png": "[encoded data removed]",
      "text/plain": [
       "<Figure size 576x396 with 2 Axes>"
      ]
     },
     "metadata": {
      "tags": []
     },
     "output_type": "display_data"
    }
   ],
   "source": [
    "a = confusion_matrix(y_test, y_pred_lasso)\n",
    "\n",
    "sb.heatmap(a, annot=True, cmap='YlGnBu', fmt='g')\n",
    "plt.tight_layout()\n",
    "plt.title(\"Confusion matrix\", y=1.1)\n",
    "plt.ylabel(\"Actual label\")\n",
    "plt.xlabel(\"Predict label\")\n",
    "plt.show()"
   ]
  },
  {
   "cell_type": "code",
   "execution_count": null,
   "metadata": {
    "colab": {
     "base_uri": "https://localhost:8080/",
     "height": 364
    },
    "id": "DsWow2pw8kr4",
    "outputId": "b19e70ee-0f22-4706-f811-666292c04873"
   },
   "outputs": [
    {
     "name": "stdout",
     "output_type": "stream",
     "text": [
      "AUC : 0.5385568998394257\n"
     ]
    },
    {
     "data": {
      "image/png": "[encoded data removed]",
      "text/plain": [
       "<Figure size 576x396 with 1 Axes>"
      ]
     },
     "metadata": {
      "tags": []
     },
     "output_type": "display_data"
    }
   ],
   "source": [
    "fpr_lasso,tpr_lasso, thresholds_lasso = roc_curve(y_test,y_pred_lasso)\n",
    "# print ROC curve\n",
    "plt.plot(fpr_lasso,tpr_lasso)\n",
    "\n",
    "# print AUC \n",
    "auc_lasso = np.trapz(tpr_lasso, fpr_lasso)\n",
    "print(\"AUC :\",auc_lasso)"
   ]
  },
  {
   "cell_type": "code",
   "execution_count": null,
   "metadata": {
    "colab": {
     "base_uri": "https://localhost:8080/",
     "height": 376
    },
    "id": "ppOmrAuji_jD",
    "outputId": "afb71e3c-b229-409d-ef79-3583a6253e0e"
   },
   "outputs": [
    {
     "data": {
      "image/png": "[encoded data removed]",
      "text/plain": [
       "<Figure size 576x396 with 1 Axes>"
      ]
     },
     "metadata": {
      "tags": []
     },
     "output_type": "display_data"
    }
   ],
   "source": [
    "#pr curve\n",
    "from sklearn.metrics import precision_recall_curve\n",
    "def plot_pr_curve(test_y, model_probs ,clf_name):\n",
    "    precision, recall, _ = precision_recall_curve(test_y, model_probs)\n",
    "    plt.plot(recall, precision, marker='.', label=clf_name)\n",
    "    # axis labels\n",
    "    plt.xlabel('Recall')\n",
    "    plt.ylabel('Precision')\n",
    "    # show the legend\n",
    "    plt.legend()\n",
    "    plt.ylim(0,1)\n",
    "\n",
    "plot_pr_curve(y_test, y_pred_lasso,lasso)\n",
    "plt.title(\"Rasso PR curve\")\n",
    "plt.show()"
   ]
  },
  {
   "cell_type": "code",
   "execution_count": null,
   "metadata": {
    "id": "TqsKrIiVkwOA"
   },
   "outputs": [],
   "source": []
  },
  {
   "cell_type": "markdown",
   "metadata": {
    "id": "yE0dvA2n-0U9"
   },
   "source": [
    "### 3.6 릿지 회귀(Ridge Regression)"
   ]
  },
  {
   "cell_type": "code",
   "execution_count": null,
   "metadata": {
    "colab": {
     "base_uri": "https://localhost:8080/"
    },
    "id": "-qT3eAP_nBSD",
    "outputId": "8e8314fa-f8e5-4b01-e339-169d778ae613"
   },
   "outputs": [
    {
     "data": {
      "text/plain": [
       "array([0.        , 0.10526316, 0.21052632, 0.31578947, 0.42105263,\n",
       "       0.52631579, 0.63157895, 0.73684211, 0.84210526, 0.94736842,\n",
       "       1.05263158, 1.15789474, 1.26315789, 1.36842105, 1.47368421,\n",
       "       1.57894737, 1.68421053, 1.78947368, 1.89473684, 2.        ])"
      ]
     },
     "execution_count": 62,
     "metadata": {
      "tags": []
     },
     "output_type": "execute_result"
    }
   ],
   "source": [
    "number=20\n",
    "alphas = np.linspace(0,2,number)\n",
    "alphas\n",
    "# 지수 스케일로 조정: np.logspace\n",
    "#alpha 낮게 -> 규제 약하게 : 데이터에 더 많은 피팅 시켜라 = 과대적합\n",
    "#alpha 높게 -> 규제 강하게 : 모든 계수 값 0에 가깝게 = 과소적합"
   ]
  },
  {
   "cell_type": "code",
   "execution_count": null,
   "metadata": {
    "colab": {
     "base_uri": "https://localhost:8080/"
    },
    "id": "vZRuSLCjvP9u",
    "outputId": "9361ad9e-7626-491d-e2b3-02137ae9c123"
   },
   "outputs": [
    {
     "name": "stdout",
     "output_type": "stream",
     "text": [
      "2.0\n"
     ]
    }
   ],
   "source": [
    "#최적의 alpha찾기\n",
    "ridge_cv=RidgeCV(alphas=alphas, cv=5).fit(X_train, y_train)\n",
    "print(ridge_cv.alpha_)"
   ]
  },
  {
   "cell_type": "code",
   "execution_count": null,
   "metadata": {
    "id": "O0qQc1OH0wke"
   },
   "outputs": [],
   "source": [
    "#최적의 alpha값 대입하여 트레이닝\n",
    "ridge = Ridge(alpha = ridge_cv.alpha_).fit(X_train, y_train)"
   ]
  },
  {
   "cell_type": "code",
   "execution_count": null,
   "metadata": {
    "colab": {
     "base_uri": "https://localhost:8080/"
    },
    "id": "ZbdhaM6r6xoD",
    "outputId": "86016564-8ede-4fc3-efa0-0e03192d055c"
   },
   "outputs": [
    {
     "data": {
      "text/plain": [
       "array([ 4.06101379e-02,  1.39082900e-01, -3.56987283e-03,  5.32400094e-02,\n",
       "        4.47988505e-03, -4.21815848e-02,  5.92979663e-03,  3.91361827e-03,\n",
       "       -6.28689558e-03, -4.92863533e-03,  2.32542488e-02, -1.78326856e-02,\n",
       "        5.11090495e-08, -2.05875266e-02, -1.10840770e-02,  1.73290634e-06,\n",
       "        6.90475498e-04, -6.81816272e-03, -1.67635739e-02, -1.01033619e-02,\n",
       "       -7.69338117e-03, -1.05298299e-02, -1.03457593e-02, -8.24304060e-03,\n",
       "       -7.56451370e-03,  1.14900374e-04,  3.10924996e-05, -7.81277105e-03,\n",
       "        8.57284013e-02, -6.80966373e-03, -7.79423140e-03, -3.82478196e-02,\n",
       "       -5.15137767e-03,  1.47543963e-02,  4.32486961e-02, -1.55766681e-02,\n",
       "        1.60789533e-02, -5.02285276e-04, -1.55110348e-02, -1.00918298e-02,\n",
       "        3.99204015e-03,  0.00000000e+00,  1.45195588e-02, -2.44794015e-02,\n",
       "        3.49680149e-03,  3.83829895e-02,  1.33368979e-02, -1.23373514e-02,\n",
       "        8.88919880e-04,  6.20749985e-02,  3.02398953e-03, -7.72965783e-02,\n",
       "        2.08350051e-03,  4.13980088e-02,  6.03009121e-02,  8.48271411e-03,\n",
       "        7.84655975e-03, -3.91176035e-02, -2.89711163e-02, -7.01454501e-02,\n",
       "        2.57842228e-03,  2.29093562e-02, -2.18630653e-02, -2.90455970e-03,\n",
       "        1.75599869e-01,  7.32305931e-05, -2.46769379e-02,  2.49524408e-02,\n",
       "       -5.43441384e-02,  2.93583316e-02,  5.51188414e-02,  1.94258005e-02,\n",
       "        3.75037411e-02, -1.00682752e-01, -8.29194077e-04,  1.23632223e-02,\n",
       "        1.88935517e-02,  6.13550494e-02, -2.71933950e-02,  2.30590727e-02,\n",
       "       -1.22249773e-02,  3.20045360e-02, -8.53497313e-02,  2.49511853e-02,\n",
       "        7.50951199e-03,  4.64246631e-02,  3.03744437e-02,  4.25608850e-03,\n",
       "        4.03977778e-02, -6.14587907e-02,  1.41678377e-02, -7.98683904e-03,\n",
       "       -5.29614365e-02,  2.60988398e-02,  1.96311733e-02,  3.80991580e-03,\n",
       "       -4.42218426e-03,  1.98242899e-02, -8.48140252e-02, -4.85721686e-02,\n",
       "       -2.98205121e-02, -4.97886775e-02, -6.46253336e-02, -1.26902354e-02,\n",
       "        2.82782384e-03,  4.32580160e-04,  3.68433321e-03,  1.18230331e-03,\n",
       "       -7.04918229e-03,  9.88729334e-04,  1.79436405e-03, -2.14216637e-03,\n",
       "       -1.85684343e-03,  1.85364287e-03, -1.71558472e-03, -1.00112477e-02,\n",
       "        5.74188754e-03, -1.05201437e-02, -2.76398658e-03,  4.93545460e-03,\n",
       "       -1.54346088e-04, -8.75059390e-03,  4.61036790e-03,  3.04015262e-03,\n",
       "       -1.94623590e-03,  1.58186911e-02, -6.33376113e-04, -5.67487471e-03,\n",
       "       -3.55968524e-02, -2.32216758e-02, -1.31444986e-02, -6.48501179e-03,\n",
       "       -1.00083142e-02,  1.83731612e-02,  2.91890701e-02,  2.77182082e-02,\n",
       "        1.94841641e-02, -1.29379193e-03,  2.80285152e-02,  7.40154185e-03,\n",
       "        9.77157878e-03,  2.38381081e-03, -4.10464330e-03,  1.14164225e-03,\n",
       "       -4.01940155e-03, -1.43728702e-02, -2.20422115e-02, -2.89417033e-03,\n",
       "       -8.80940200e-03,  3.28500012e-02,  2.03739979e-02,  1.83931069e-02,\n",
       "        1.03046814e-02,  1.96531831e-02,  7.50266442e-03, -8.49689726e-03,\n",
       "       -1.05939772e-02, -2.55044276e-02, -5.56729309e-02, -1.31339637e-02,\n",
       "        1.27907031e-02,  1.23501316e-02,  8.66360243e-04, -9.18411374e-04,\n",
       "       -9.78231813e-03, -2.16008545e-03,  2.71783901e-03,  9.40301475e-04,\n",
       "        4.72976013e-03, -8.40031694e-03, -3.71929609e-02,  3.02804852e-02,\n",
       "        1.19670409e-02,  5.97704633e-03, -1.67231551e-03,  4.48435530e-03,\n",
       "        6.11634461e-03,  1.32335678e-03, -6.54165069e-03, -1.47417021e-02,\n",
       "        1.91363153e-02,  3.65526335e-03,  1.22888767e-03,  1.28342264e-03,\n",
       "        4.09557170e-03,  8.78195475e-04, -4.53258087e-03,  9.41386122e-04,\n",
       "       -9.80006043e-03, -1.02239612e-02, -6.66243982e-03])"
      ]
     },
     "execution_count": 65,
     "metadata": {
      "tags": []
     },
     "output_type": "execute_result"
    }
   ],
   "source": [
    "#Ridge의 회귀계수(0에 가까워짐 but, 0은 아님) -> \n",
    "ridge.coef_"
   ]
  },
  {
   "cell_type": "code",
   "execution_count": null,
   "metadata": {
    "colab": {
     "base_uri": "https://localhost:8080/"
    },
    "id": "SNlbh8280xPd",
    "outputId": "7ed22a6c-7199-4965-9ce1-375779dccb60"
   },
   "outputs": [
    {
     "name": "stdout",
     "output_type": "stream",
     "text": [
      "0.5509826099250672\n"
     ]
    }
   ],
   "source": [
    "y_pred_ridge = ridge.predict(X_test)\n",
    "y_pred_ridge = cut_off(y_pred_ridge,0.26)\n",
    "cfm_ridge = confusion_matrix(y_test,y_pred_ridge)\n",
    "print(acc(cfm_ridge))"
   ]
  },
  {
   "cell_type": "code",
   "execution_count": null,
   "metadata": {
    "colab": {
     "base_uri": "https://localhost:8080/"
    },
    "id": "77dqywam_mp5",
    "outputId": "d9e81577-a39d-46f3-f24d-6337c28d743e"
   },
   "outputs": [
    {
     "name": "stdout",
     "output_type": "stream",
     "text": [
      "0.5509826099250672\n",
      "0.5270463454000461\n",
      "[[ 4684 30768]\n",
      " [  991 34287]]\n"
     ]
    }
   ],
   "source": [
    "print(accuracy_score(y_test, y_pred_ridge))\n",
    "print(precision_score(y_test, y_pred_ridge))\n",
    "print(confusion_matrix(y_test, y_pred_ridge))"
   ]
  },
  {
   "cell_type": "code",
   "execution_count": null,
   "metadata": {
    "colab": {
     "base_uri": "https://localhost:8080/",
     "height": 430
    },
    "id": "-P777A1pD3XZ",
    "outputId": "3d52e940-0e62-4a94-cf12-0a3b96a02481"
   },
   "outputs": [
    {
     "data": {
      "image/png": "[encoded data removed]",
      "text/plain": [
       "<Figure size 576x396 with 2 Axes>"
      ]
     },
     "metadata": {
      "tags": []
     },
     "output_type": "display_data"
    }
   ],
   "source": [
    "a = confusion_matrix(y_test, y_pred_ridge)\n",
    "\n",
    "sb.heatmap(a, annot=True, cmap='YlGnBu', fmt='g')\n",
    "plt.tight_layout()\n",
    "plt.title(\"Confusion matrix\", y=1.1)\n",
    "plt.ylabel(\"Actual label\")\n",
    "plt.xlabel(\"Predict label\")\n",
    "plt.show()"
   ]
  },
  {
   "cell_type": "code",
   "execution_count": null,
   "metadata": {
    "colab": {
     "base_uri": "https://localhost:8080/",
     "height": 364
    },
    "id": "-UFJ7oqd0wnb",
    "outputId": "5262efd2-af92-498e-f711-677e783ccea5"
   },
   "outputs": [
    {
     "name": "stdout",
     "output_type": "stream",
     "text": [
      "AUC : 0.5520155722931893\n"
     ]
    },
    {
     "data": {
      "image/png": "[encoded data removed]",
      "text/plain": [
       "<Figure size 576x396 with 1 Axes>"
      ]
     },
     "metadata": {
      "tags": []
     },
     "output_type": "display_data"
    }
   ],
   "source": [
    "## Ridge AUC, ROC Curve\n",
    "fpr_ridge, tpr_ridge, thresholds_ridge = roc_curve(y_test,y_pred_ridge)\n",
    "\n",
    "# print ROC curve\n",
    "plt.plot(fpr_ridge,tpr_ridge)\n",
    "\n",
    "# print AUC\n",
    "auc_ridge = np.trapz(tpr_ridge,fpr_ridge)\n",
    "print(\"AUC :\",auc_ridge)"
   ]
  },
  {
   "cell_type": "code",
   "execution_count": null,
   "metadata": {
    "colab": {
     "base_uri": "https://localhost:8080/",
     "height": 376
    },
    "id": "ESfWwTgZkze7",
    "outputId": "f4f72eba-7fa4-4d6b-f3ba-5ce67ec01a79"
   },
   "outputs": [
    {
     "data": {
      "image/png": "[encoded data removed]",
      "text/plain": [
       "<Figure size 576x396 with 1 Axes>"
      ]
     },
     "metadata": {
      "tags": []
     },
     "output_type": "display_data"
    }
   ],
   "source": [
    "#pr curve\n",
    "from sklearn.metrics import precision_recall_curve\n",
    "def plot_pr_curve(test_y, model_probs ,clf_name):\n",
    "    precision, recall, _ = precision_recall_curve(test_y, model_probs)\n",
    "    plt.plot(recall, precision, marker='.', label=clf_name)\n",
    "    # axis labels\n",
    "    plt.xlabel('Recall')\n",
    "    plt.ylabel('Precision')\n",
    "    # show the legend\n",
    "    plt.legend()\n",
    "    plt.ylim(0,1)\n",
    "\n",
    "plot_pr_curve(y_test,y_pred_ridge, ridge)\n",
    "plt.title(\"Ridge PR curve\")\n",
    "plt.show()"
   ]
  },
  {
   "cell_type": "markdown",
   "metadata": {
    "id": "IuTafhaAZIHF"
   },
   "source": [
    "## 4. 결론"
   ]
  },
  {
   "cell_type": "code",
   "execution_count": null,
   "metadata": {
    "colab": {
     "base_uri": "https://localhost:8080/",
     "height": 380
    },
    "id": "cZHiKGo8MAl3",
    "outputId": "b9c0e9dd-898a-4f90-af67-8fe3a0f73f2a"
   },
   "outputs": [
    {
     "data": {
      "text/plain": [
       "Text(0.5, 1.0, 'ROC curve')"
      ]
     },
     "execution_count": 95,
     "metadata": {
      "tags": []
     },
     "output_type": "execute_result"
    },
    {
     "data": {
      "image/png": "[encoded data removed]",
      "text/plain": [
       "<Figure size 576x396 with 1 Axes>"
      ]
     },
     "metadata": {
      "tags": []
     },
     "output_type": "display_data"
    }
   ],
   "source": [
    "plt.plot(fpr_logit2,tpr_logit2,label = 'Logit')\n",
    "plt.plot(fpr_lasso,tpr_lasso,label = 'Lasso')\n",
    "plt.plot(fpr_ridge,tpr_ridge,label = 'Ridge')\n",
    "plt.plot(fpr_rf,tpr_rf,label = 'Random Forest')\n",
    "plt.plot(fpr_tree,tpr_tree,label = 'Decision Tree')\n",
    "plt.legend() ## 범례\n",
    "plt.title(\"ROC curve\")"
   ]
  },
  {
   "cell_type": "code",
   "execution_count": null,
   "metadata": {
    "colab": {
     "base_uri": "https://localhost:8080/",
     "height": 401
    },
    "id": "rdsF7vTkQdIX",
    "outputId": "7f87ee5c-f080-465c-a7c2-efc7b22b9480"
   },
   "outputs": [
    {
     "data": {
      "image/png": "[encoded data removed]",
      "text/plain": [
       "<Figure size 576x396 with 5 Axes>"
      ]
     },
     "metadata": {
      "tags": []
     },
     "output_type": "display_data"
    }
   ],
   "source": [
    "plt.subplot(2,3,1)\n",
    "plt.plot(fpr_logit2,tpr_logit2,label = 'Logit')\n",
    "plt.legend() ## 범례\n",
    "plt.subplot(2,3,2)\n",
    "plt.plot(fpr_lasso,tpr_lasso,label = 'Lasso')\n",
    "plt.legend() ## 범례\n",
    "plt.subplot(2,3,3)\n",
    "plt.plot(fpr_ridge,tpr_ridge,label = 'Ridge')\n",
    "plt.legend() ## 범례\n",
    "plt.subplot(2,3,4)\n",
    "plt.plot(fpr_rf,tpr_rf,label = 'Random Forest')\n",
    "plt.legend() ## 범례\n",
    "plt.subplot(2,3,5)\n",
    "plt.plot(fpr_tree,tpr_tree,label = 'Decision Tree')\n",
    "\n",
    "plt.legend() ## 범례\n",
    "plt.tight_layout()\n",
    "plt.show()"
   ]
  }
 ],
 "metadata": {
  "colab": {
   "collapsed_sections": [
    "amq--dzValLm",
    "Oh6uI_lNalLq",
    "PDH3YIZaalLr",
    "DJDrye13alLq",
    "WtJfVj8palL4",
    "SxFPgka9alL5",
    "f3gTjmCSalL5",
    "t73oJSHValL6",
    "rRW_2ozCalL7",
    "-gKFEkYbalL8",
    "qqmyqBk_m4KU",
    "IuTafhaAZIHF"
   ],
   "name": "전체 코드 피드백 후.ipynb",
   "provenance": [],
   "toc_visible": true
  },
  "kernelspec": {
   "display_name": "Python 3",
   "language": "python",
   "name": "python3"
  },
  "language_info": {
   "codemirror_mode": {
    "name": "ipython",
    "version": 3
   },
   "file_extension": ".py",
   "mimetype": "text/x-python",
   "name": "python",
   "nbconvert_exporter": "python",
   "pygments_lexer": "ipython3",
   "version": "3.8.5"
  }
 },
 "nbformat": 4,
 "nbformat_minor": 1
}
